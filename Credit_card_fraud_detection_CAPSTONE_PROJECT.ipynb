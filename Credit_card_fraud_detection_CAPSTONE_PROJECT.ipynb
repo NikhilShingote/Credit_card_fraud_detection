{
 "cells": [
  {
   "cell_type": "markdown",
   "id": "7774e7c0",
   "metadata": {},
   "source": [
    "# Credit Card Fraud Detection: Capstone Project (BA)"
   ]
  },
  {
   "cell_type": "code",
   "execution_count": 1,
   "id": "028280f9",
   "metadata": {},
   "outputs": [],
   "source": [
    "#modelues for EDA steps\n",
    "import numpy as np\n",
    "import pandas as pd\n",
    "import matplotlib.pyplot as plt\n",
    "%matplotlib inline\n",
    "import seaborn as sns\n",
    "\n",
    "from sklearn import metrics\n",
    "from sklearn import preprocessing\n",
    "\n",
    "# For avoiding warnings\n",
    "import warnings\n",
    "warnings.filterwarnings('ignore')"
   ]
  },
  {
   "cell_type": "markdown",
   "id": "129f4112",
   "metadata": {},
   "source": [
    "## Step 1-Reading and understanding the data"
   ]
  },
  {
   "cell_type": "code",
   "execution_count": 2,
   "id": "9e99c7fe",
   "metadata": {},
   "outputs": [],
   "source": [
    "df1 = pd.read_csv(r\"J:\\Fraud Detection Capstone project/fraudTrain.csv\")"
   ]
  },
  {
   "cell_type": "code",
   "execution_count": 3,
   "id": "5f7af23a",
   "metadata": {},
   "outputs": [],
   "source": [
    "df2 = pd.read_csv(r\"J:\\Fraud Detection Capstone project/fraudTest.csv\")"
   ]
  },
  {
   "cell_type": "code",
   "execution_count": 4,
   "id": "d605e29a",
   "metadata": {},
   "outputs": [
    {
     "name": "stdout",
     "output_type": "stream",
     "text": [
      "(1296675, 23)\n"
     ]
    }
   ],
   "source": [
    "print(df1.shape)"
   ]
  },
  {
   "cell_type": "code",
   "execution_count": 5,
   "id": "eff1ad52",
   "metadata": {},
   "outputs": [
    {
     "name": "stdout",
     "output_type": "stream",
     "text": [
      "(555719, 23)\n"
     ]
    }
   ],
   "source": [
    "print(df2.shape)"
   ]
  },
  {
   "cell_type": "markdown",
   "id": "eed2c962",
   "metadata": {},
   "source": [
    "### Train Data"
   ]
  },
  {
   "cell_type": "code",
   "execution_count": 6,
   "id": "7851cdd3",
   "metadata": {},
   "outputs": [
    {
     "data": {
      "text/html": [
       "<div>\n",
       "<style scoped>\n",
       "    .dataframe tbody tr th:only-of-type {\n",
       "        vertical-align: middle;\n",
       "    }\n",
       "\n",
       "    .dataframe tbody tr th {\n",
       "        vertical-align: top;\n",
       "    }\n",
       "\n",
       "    .dataframe thead th {\n",
       "        text-align: right;\n",
       "    }\n",
       "</style>\n",
       "<table border=\"1\" class=\"dataframe\">\n",
       "  <thead>\n",
       "    <tr style=\"text-align: right;\">\n",
       "      <th></th>\n",
       "      <th>Unnamed: 0</th>\n",
       "      <th>trans_date_trans_time</th>\n",
       "      <th>cc_num</th>\n",
       "      <th>merchant</th>\n",
       "      <th>category</th>\n",
       "      <th>amt</th>\n",
       "      <th>first</th>\n",
       "      <th>last</th>\n",
       "      <th>gender</th>\n",
       "      <th>street</th>\n",
       "      <th>city</th>\n",
       "      <th>state</th>\n",
       "      <th>zip</th>\n",
       "      <th>lat</th>\n",
       "      <th>long</th>\n",
       "      <th>city_pop</th>\n",
       "      <th>job</th>\n",
       "      <th>dob</th>\n",
       "      <th>trans_num</th>\n",
       "      <th>unix_time</th>\n",
       "      <th>merch_lat</th>\n",
       "      <th>merch_long</th>\n",
       "      <th>is_fraud</th>\n",
       "    </tr>\n",
       "  </thead>\n",
       "  <tbody>\n",
       "    <tr>\n",
       "      <th>0</th>\n",
       "      <td>0</td>\n",
       "      <td>2019-01-01 00:00:18</td>\n",
       "      <td>2703186189652095</td>\n",
       "      <td>fraud_Rippin, Kub and Mann</td>\n",
       "      <td>misc_net</td>\n",
       "      <td>4.97</td>\n",
       "      <td>Jennifer</td>\n",
       "      <td>Banks</td>\n",
       "      <td>F</td>\n",
       "      <td>561 Perry Cove</td>\n",
       "      <td>Moravian Falls</td>\n",
       "      <td>NC</td>\n",
       "      <td>28654</td>\n",
       "      <td>36.0788</td>\n",
       "      <td>-81.1781</td>\n",
       "      <td>3495</td>\n",
       "      <td>Psychologist, counselling</td>\n",
       "      <td>1988-03-09</td>\n",
       "      <td>0b242abb623afc578575680df30655b9</td>\n",
       "      <td>1325376018</td>\n",
       "      <td>36.011293</td>\n",
       "      <td>-82.048315</td>\n",
       "      <td>0</td>\n",
       "    </tr>\n",
       "    <tr>\n",
       "      <th>1</th>\n",
       "      <td>1</td>\n",
       "      <td>2019-01-01 00:00:44</td>\n",
       "      <td>630423337322</td>\n",
       "      <td>fraud_Heller, Gutmann and Zieme</td>\n",
       "      <td>grocery_pos</td>\n",
       "      <td>107.23</td>\n",
       "      <td>Stephanie</td>\n",
       "      <td>Gill</td>\n",
       "      <td>F</td>\n",
       "      <td>43039 Riley Greens Suite 393</td>\n",
       "      <td>Orient</td>\n",
       "      <td>WA</td>\n",
       "      <td>99160</td>\n",
       "      <td>48.8878</td>\n",
       "      <td>-118.2105</td>\n",
       "      <td>149</td>\n",
       "      <td>Special educational needs teacher</td>\n",
       "      <td>1978-06-21</td>\n",
       "      <td>1f76529f8574734946361c461b024d99</td>\n",
       "      <td>1325376044</td>\n",
       "      <td>49.159047</td>\n",
       "      <td>-118.186462</td>\n",
       "      <td>0</td>\n",
       "    </tr>\n",
       "    <tr>\n",
       "      <th>2</th>\n",
       "      <td>2</td>\n",
       "      <td>2019-01-01 00:00:51</td>\n",
       "      <td>38859492057661</td>\n",
       "      <td>fraud_Lind-Buckridge</td>\n",
       "      <td>entertainment</td>\n",
       "      <td>220.11</td>\n",
       "      <td>Edward</td>\n",
       "      <td>Sanchez</td>\n",
       "      <td>M</td>\n",
       "      <td>594 White Dale Suite 530</td>\n",
       "      <td>Malad City</td>\n",
       "      <td>ID</td>\n",
       "      <td>83252</td>\n",
       "      <td>42.1808</td>\n",
       "      <td>-112.2620</td>\n",
       "      <td>4154</td>\n",
       "      <td>Nature conservation officer</td>\n",
       "      <td>1962-01-19</td>\n",
       "      <td>a1a22d70485983eac12b5b88dad1cf95</td>\n",
       "      <td>1325376051</td>\n",
       "      <td>43.150704</td>\n",
       "      <td>-112.154481</td>\n",
       "      <td>0</td>\n",
       "    </tr>\n",
       "    <tr>\n",
       "      <th>3</th>\n",
       "      <td>3</td>\n",
       "      <td>2019-01-01 00:01:16</td>\n",
       "      <td>3534093764340240</td>\n",
       "      <td>fraud_Kutch, Hermiston and Farrell</td>\n",
       "      <td>gas_transport</td>\n",
       "      <td>45.00</td>\n",
       "      <td>Jeremy</td>\n",
       "      <td>White</td>\n",
       "      <td>M</td>\n",
       "      <td>9443 Cynthia Court Apt. 038</td>\n",
       "      <td>Boulder</td>\n",
       "      <td>MT</td>\n",
       "      <td>59632</td>\n",
       "      <td>46.2306</td>\n",
       "      <td>-112.1138</td>\n",
       "      <td>1939</td>\n",
       "      <td>Patent attorney</td>\n",
       "      <td>1967-01-12</td>\n",
       "      <td>6b849c168bdad6f867558c3793159a81</td>\n",
       "      <td>1325376076</td>\n",
       "      <td>47.034331</td>\n",
       "      <td>-112.561071</td>\n",
       "      <td>0</td>\n",
       "    </tr>\n",
       "    <tr>\n",
       "      <th>4</th>\n",
       "      <td>4</td>\n",
       "      <td>2019-01-01 00:03:06</td>\n",
       "      <td>375534208663984</td>\n",
       "      <td>fraud_Keeling-Crist</td>\n",
       "      <td>misc_pos</td>\n",
       "      <td>41.96</td>\n",
       "      <td>Tyler</td>\n",
       "      <td>Garcia</td>\n",
       "      <td>M</td>\n",
       "      <td>408 Bradley Rest</td>\n",
       "      <td>Doe Hill</td>\n",
       "      <td>VA</td>\n",
       "      <td>24433</td>\n",
       "      <td>38.4207</td>\n",
       "      <td>-79.4629</td>\n",
       "      <td>99</td>\n",
       "      <td>Dance movement psychotherapist</td>\n",
       "      <td>1986-03-28</td>\n",
       "      <td>a41d7549acf90789359a9aa5346dcb46</td>\n",
       "      <td>1325376186</td>\n",
       "      <td>38.674999</td>\n",
       "      <td>-78.632459</td>\n",
       "      <td>0</td>\n",
       "    </tr>\n",
       "  </tbody>\n",
       "</table>\n",
       "</div>"
      ],
      "text/plain": [
       "   Unnamed: 0 trans_date_trans_time            cc_num  \\\n",
       "0           0   2019-01-01 00:00:18  2703186189652095   \n",
       "1           1   2019-01-01 00:00:44      630423337322   \n",
       "2           2   2019-01-01 00:00:51    38859492057661   \n",
       "3           3   2019-01-01 00:01:16  3534093764340240   \n",
       "4           4   2019-01-01 00:03:06   375534208663984   \n",
       "\n",
       "                             merchant       category     amt      first  \\\n",
       "0          fraud_Rippin, Kub and Mann       misc_net    4.97   Jennifer   \n",
       "1     fraud_Heller, Gutmann and Zieme    grocery_pos  107.23  Stephanie   \n",
       "2                fraud_Lind-Buckridge  entertainment  220.11     Edward   \n",
       "3  fraud_Kutch, Hermiston and Farrell  gas_transport   45.00     Jeremy   \n",
       "4                 fraud_Keeling-Crist       misc_pos   41.96      Tyler   \n",
       "\n",
       "      last gender                        street            city state    zip  \\\n",
       "0    Banks      F                561 Perry Cove  Moravian Falls    NC  28654   \n",
       "1     Gill      F  43039 Riley Greens Suite 393          Orient    WA  99160   \n",
       "2  Sanchez      M      594 White Dale Suite 530      Malad City    ID  83252   \n",
       "3    White      M   9443 Cynthia Court Apt. 038         Boulder    MT  59632   \n",
       "4   Garcia      M              408 Bradley Rest        Doe Hill    VA  24433   \n",
       "\n",
       "       lat      long  city_pop                                job         dob  \\\n",
       "0  36.0788  -81.1781      3495          Psychologist, counselling  1988-03-09   \n",
       "1  48.8878 -118.2105       149  Special educational needs teacher  1978-06-21   \n",
       "2  42.1808 -112.2620      4154        Nature conservation officer  1962-01-19   \n",
       "3  46.2306 -112.1138      1939                    Patent attorney  1967-01-12   \n",
       "4  38.4207  -79.4629        99     Dance movement psychotherapist  1986-03-28   \n",
       "\n",
       "                          trans_num   unix_time  merch_lat  merch_long  \\\n",
       "0  0b242abb623afc578575680df30655b9  1325376018  36.011293  -82.048315   \n",
       "1  1f76529f8574734946361c461b024d99  1325376044  49.159047 -118.186462   \n",
       "2  a1a22d70485983eac12b5b88dad1cf95  1325376051  43.150704 -112.154481   \n",
       "3  6b849c168bdad6f867558c3793159a81  1325376076  47.034331 -112.561071   \n",
       "4  a41d7549acf90789359a9aa5346dcb46  1325376186  38.674999  -78.632459   \n",
       "\n",
       "   is_fraud  \n",
       "0         0  \n",
       "1         0  \n",
       "2         0  \n",
       "3         0  \n",
       "4         0  "
      ]
     },
     "execution_count": 6,
     "metadata": {},
     "output_type": "execute_result"
    }
   ],
   "source": [
    "# To display All the columns\n",
    "pd.set_option('display.max_columns', None)\n",
    "df1.head()"
   ]
  },
  {
   "cell_type": "markdown",
   "id": "35a02b7c",
   "metadata": {},
   "source": [
    "### Test Data"
   ]
  },
  {
   "cell_type": "code",
   "execution_count": 7,
   "id": "54b13aab",
   "metadata": {},
   "outputs": [
    {
     "data": {
      "text/html": [
       "<div>\n",
       "<style scoped>\n",
       "    .dataframe tbody tr th:only-of-type {\n",
       "        vertical-align: middle;\n",
       "    }\n",
       "\n",
       "    .dataframe tbody tr th {\n",
       "        vertical-align: top;\n",
       "    }\n",
       "\n",
       "    .dataframe thead th {\n",
       "        text-align: right;\n",
       "    }\n",
       "</style>\n",
       "<table border=\"1\" class=\"dataframe\">\n",
       "  <thead>\n",
       "    <tr style=\"text-align: right;\">\n",
       "      <th></th>\n",
       "      <th>Unnamed: 0</th>\n",
       "      <th>trans_date_trans_time</th>\n",
       "      <th>cc_num</th>\n",
       "      <th>merchant</th>\n",
       "      <th>category</th>\n",
       "      <th>amt</th>\n",
       "      <th>first</th>\n",
       "      <th>last</th>\n",
       "      <th>gender</th>\n",
       "      <th>street</th>\n",
       "      <th>city</th>\n",
       "      <th>state</th>\n",
       "      <th>zip</th>\n",
       "      <th>lat</th>\n",
       "      <th>long</th>\n",
       "      <th>city_pop</th>\n",
       "      <th>job</th>\n",
       "      <th>dob</th>\n",
       "      <th>trans_num</th>\n",
       "      <th>unix_time</th>\n",
       "      <th>merch_lat</th>\n",
       "      <th>merch_long</th>\n",
       "      <th>is_fraud</th>\n",
       "    </tr>\n",
       "  </thead>\n",
       "  <tbody>\n",
       "    <tr>\n",
       "      <th>0</th>\n",
       "      <td>0</td>\n",
       "      <td>2020-06-21 12:14:25</td>\n",
       "      <td>2291163933867244</td>\n",
       "      <td>fraud_Kirlin and Sons</td>\n",
       "      <td>personal_care</td>\n",
       "      <td>2.86</td>\n",
       "      <td>Jeff</td>\n",
       "      <td>Elliott</td>\n",
       "      <td>M</td>\n",
       "      <td>351 Darlene Green</td>\n",
       "      <td>Columbia</td>\n",
       "      <td>SC</td>\n",
       "      <td>29209</td>\n",
       "      <td>33.9659</td>\n",
       "      <td>-80.9355</td>\n",
       "      <td>333497</td>\n",
       "      <td>Mechanical engineer</td>\n",
       "      <td>1968-03-19</td>\n",
       "      <td>2da90c7d74bd46a0caf3777415b3ebd3</td>\n",
       "      <td>1371816865</td>\n",
       "      <td>33.986391</td>\n",
       "      <td>-81.200714</td>\n",
       "      <td>0</td>\n",
       "    </tr>\n",
       "    <tr>\n",
       "      <th>1</th>\n",
       "      <td>1</td>\n",
       "      <td>2020-06-21 12:14:33</td>\n",
       "      <td>3573030041201292</td>\n",
       "      <td>fraud_Sporer-Keebler</td>\n",
       "      <td>personal_care</td>\n",
       "      <td>29.84</td>\n",
       "      <td>Joanne</td>\n",
       "      <td>Williams</td>\n",
       "      <td>F</td>\n",
       "      <td>3638 Marsh Union</td>\n",
       "      <td>Altonah</td>\n",
       "      <td>UT</td>\n",
       "      <td>84002</td>\n",
       "      <td>40.3207</td>\n",
       "      <td>-110.4360</td>\n",
       "      <td>302</td>\n",
       "      <td>Sales professional, IT</td>\n",
       "      <td>1990-01-17</td>\n",
       "      <td>324cc204407e99f51b0d6ca0055005e7</td>\n",
       "      <td>1371816873</td>\n",
       "      <td>39.450498</td>\n",
       "      <td>-109.960431</td>\n",
       "      <td>0</td>\n",
       "    </tr>\n",
       "    <tr>\n",
       "      <th>2</th>\n",
       "      <td>2</td>\n",
       "      <td>2020-06-21 12:14:53</td>\n",
       "      <td>3598215285024754</td>\n",
       "      <td>fraud_Swaniawski, Nitzsche and Welch</td>\n",
       "      <td>health_fitness</td>\n",
       "      <td>41.28</td>\n",
       "      <td>Ashley</td>\n",
       "      <td>Lopez</td>\n",
       "      <td>F</td>\n",
       "      <td>9333 Valentine Point</td>\n",
       "      <td>Bellmore</td>\n",
       "      <td>NY</td>\n",
       "      <td>11710</td>\n",
       "      <td>40.6729</td>\n",
       "      <td>-73.5365</td>\n",
       "      <td>34496</td>\n",
       "      <td>Librarian, public</td>\n",
       "      <td>1970-10-21</td>\n",
       "      <td>c81755dbbbea9d5c77f094348a7579be</td>\n",
       "      <td>1371816893</td>\n",
       "      <td>40.495810</td>\n",
       "      <td>-74.196111</td>\n",
       "      <td>0</td>\n",
       "    </tr>\n",
       "    <tr>\n",
       "      <th>3</th>\n",
       "      <td>3</td>\n",
       "      <td>2020-06-21 12:15:15</td>\n",
       "      <td>3591919803438423</td>\n",
       "      <td>fraud_Haley Group</td>\n",
       "      <td>misc_pos</td>\n",
       "      <td>60.05</td>\n",
       "      <td>Brian</td>\n",
       "      <td>Williams</td>\n",
       "      <td>M</td>\n",
       "      <td>32941 Krystal Mill Apt. 552</td>\n",
       "      <td>Titusville</td>\n",
       "      <td>FL</td>\n",
       "      <td>32780</td>\n",
       "      <td>28.5697</td>\n",
       "      <td>-80.8191</td>\n",
       "      <td>54767</td>\n",
       "      <td>Set designer</td>\n",
       "      <td>1987-07-25</td>\n",
       "      <td>2159175b9efe66dc301f149d3d5abf8c</td>\n",
       "      <td>1371816915</td>\n",
       "      <td>28.812398</td>\n",
       "      <td>-80.883061</td>\n",
       "      <td>0</td>\n",
       "    </tr>\n",
       "    <tr>\n",
       "      <th>4</th>\n",
       "      <td>4</td>\n",
       "      <td>2020-06-21 12:15:17</td>\n",
       "      <td>3526826139003047</td>\n",
       "      <td>fraud_Johnston-Casper</td>\n",
       "      <td>travel</td>\n",
       "      <td>3.19</td>\n",
       "      <td>Nathan</td>\n",
       "      <td>Massey</td>\n",
       "      <td>M</td>\n",
       "      <td>5783 Evan Roads Apt. 465</td>\n",
       "      <td>Falmouth</td>\n",
       "      <td>MI</td>\n",
       "      <td>49632</td>\n",
       "      <td>44.2529</td>\n",
       "      <td>-85.0170</td>\n",
       "      <td>1126</td>\n",
       "      <td>Furniture designer</td>\n",
       "      <td>1955-07-06</td>\n",
       "      <td>57ff021bd3f328f8738bb535c302a31b</td>\n",
       "      <td>1371816917</td>\n",
       "      <td>44.959148</td>\n",
       "      <td>-85.884734</td>\n",
       "      <td>0</td>\n",
       "    </tr>\n",
       "  </tbody>\n",
       "</table>\n",
       "</div>"
      ],
      "text/plain": [
       "   Unnamed: 0 trans_date_trans_time            cc_num  \\\n",
       "0           0   2020-06-21 12:14:25  2291163933867244   \n",
       "1           1   2020-06-21 12:14:33  3573030041201292   \n",
       "2           2   2020-06-21 12:14:53  3598215285024754   \n",
       "3           3   2020-06-21 12:15:15  3591919803438423   \n",
       "4           4   2020-06-21 12:15:17  3526826139003047   \n",
       "\n",
       "                               merchant        category    amt   first  \\\n",
       "0                 fraud_Kirlin and Sons   personal_care   2.86    Jeff   \n",
       "1                  fraud_Sporer-Keebler   personal_care  29.84  Joanne   \n",
       "2  fraud_Swaniawski, Nitzsche and Welch  health_fitness  41.28  Ashley   \n",
       "3                     fraud_Haley Group        misc_pos  60.05   Brian   \n",
       "4                 fraud_Johnston-Casper          travel   3.19  Nathan   \n",
       "\n",
       "       last gender                       street        city state    zip  \\\n",
       "0   Elliott      M            351 Darlene Green    Columbia    SC  29209   \n",
       "1  Williams      F             3638 Marsh Union     Altonah    UT  84002   \n",
       "2     Lopez      F         9333 Valentine Point    Bellmore    NY  11710   \n",
       "3  Williams      M  32941 Krystal Mill Apt. 552  Titusville    FL  32780   \n",
       "4    Massey      M     5783 Evan Roads Apt. 465    Falmouth    MI  49632   \n",
       "\n",
       "       lat      long  city_pop                     job         dob  \\\n",
       "0  33.9659  -80.9355    333497     Mechanical engineer  1968-03-19   \n",
       "1  40.3207 -110.4360       302  Sales professional, IT  1990-01-17   \n",
       "2  40.6729  -73.5365     34496       Librarian, public  1970-10-21   \n",
       "3  28.5697  -80.8191     54767            Set designer  1987-07-25   \n",
       "4  44.2529  -85.0170      1126      Furniture designer  1955-07-06   \n",
       "\n",
       "                          trans_num   unix_time  merch_lat  merch_long  \\\n",
       "0  2da90c7d74bd46a0caf3777415b3ebd3  1371816865  33.986391  -81.200714   \n",
       "1  324cc204407e99f51b0d6ca0055005e7  1371816873  39.450498 -109.960431   \n",
       "2  c81755dbbbea9d5c77f094348a7579be  1371816893  40.495810  -74.196111   \n",
       "3  2159175b9efe66dc301f149d3d5abf8c  1371816915  28.812398  -80.883061   \n",
       "4  57ff021bd3f328f8738bb535c302a31b  1371816917  44.959148  -85.884734   \n",
       "\n",
       "   is_fraud  \n",
       "0         0  \n",
       "1         0  \n",
       "2         0  \n",
       "3         0  \n",
       "4         0  "
      ]
     },
     "execution_count": 7,
     "metadata": {},
     "output_type": "execute_result"
    }
   ],
   "source": [
    "# To display All the columns\n",
    "pd.set_option('display.max_columns', None)\n",
    "df2.head()"
   ]
  },
  {
   "cell_type": "markdown",
   "id": "ff12f64d",
   "metadata": {},
   "source": [
    "## Step 2 - Data preparation"
   ]
  },
  {
   "cell_type": "markdown",
   "id": "8e087a02",
   "metadata": {},
   "source": [
    "- We can concatenate the data for preprocessing and cleaning work.\n",
    "- Later we can seperate back the train and test data based on labels that we will provide."
   ]
  },
  {
   "cell_type": "code",
   "execution_count": 8,
   "id": "27cb351c",
   "metadata": {},
   "outputs": [],
   "source": [
    "# Giving labels to train and test data first\n",
    "df1['Label'] = 'Train'\n",
    "df2['Label'] = 'Test'"
   ]
  },
  {
   "cell_type": "code",
   "execution_count": 9,
   "id": "976d74a9",
   "metadata": {},
   "outputs": [
    {
     "data": {
      "text/plain": [
       "(1852394, 24)"
      ]
     },
     "execution_count": 9,
     "metadata": {},
     "output_type": "execute_result"
    }
   ],
   "source": [
    "# Concatenating the 2 datasets into 1.\n",
    "df = pd.concat([df1,df2])\n",
    "df.shape"
   ]
  },
  {
   "cell_type": "code",
   "execution_count": 10,
   "id": "3d565e13",
   "metadata": {},
   "outputs": [
    {
     "name": "stdout",
     "output_type": "stream",
     "text": [
      "<class 'pandas.core.frame.DataFrame'>\n",
      "Int64Index: 1852394 entries, 0 to 555718\n",
      "Data columns (total 24 columns):\n",
      " #   Column                 Dtype  \n",
      "---  ------                 -----  \n",
      " 0   Unnamed: 0             int64  \n",
      " 1   trans_date_trans_time  object \n",
      " 2   cc_num                 int64  \n",
      " 3   merchant               object \n",
      " 4   category               object \n",
      " 5   amt                    float64\n",
      " 6   first                  object \n",
      " 7   last                   object \n",
      " 8   gender                 object \n",
      " 9   street                 object \n",
      " 10  city                   object \n",
      " 11  state                  object \n",
      " 12  zip                    int64  \n",
      " 13  lat                    float64\n",
      " 14  long                   float64\n",
      " 15  city_pop               int64  \n",
      " 16  job                    object \n",
      " 17  dob                    object \n",
      " 18  trans_num              object \n",
      " 19  unix_time              int64  \n",
      " 20  merch_lat              float64\n",
      " 21  merch_long             float64\n",
      " 22  is_fraud               int64  \n",
      " 23  Label                  object \n",
      "dtypes: float64(5), int64(6), object(13)\n",
      "memory usage: 353.3+ MB\n"
     ]
    }
   ],
   "source": [
    "# Checking data types and nullvalues.\n",
    "df.info()"
   ]
  },
  {
   "cell_type": "code",
   "execution_count": 11,
   "id": "c39ee3b0",
   "metadata": {},
   "outputs": [
    {
     "data": {
      "text/plain": [
       "0"
      ]
     },
     "execution_count": 11,
     "metadata": {},
     "output_type": "execute_result"
    }
   ],
   "source": [
    "# Check for any duplicate values in the data.\n",
    "df.duplicated().sum()"
   ]
  },
  {
   "cell_type": "markdown",
   "id": "d5a349a2",
   "metadata": {},
   "source": [
    "- Since there are no null values, duplicate avlues so we can move further with data preparation.\n",
    "- We need to change the data type of 'trans_date_trans_time' and 'dob' column to Datetime."
   ]
  },
  {
   "cell_type": "code",
   "execution_count": 12,
   "id": "9782c27e",
   "metadata": {},
   "outputs": [],
   "source": [
    "# Converting the column 'trans_date_trans_time' and 'dob' to Datetime datatype.\n",
    "df['trans_date_trans_time'] = pd.to_datetime(df['trans_date_trans_time'])\n",
    "df['dob'] = pd.to_datetime(df['dob'])"
   ]
  },
  {
   "cell_type": "markdown",
   "id": "35fcffa1",
   "metadata": {},
   "source": [
    "- Lets drop the columns which are of no use to us.\n",
    "- The columns ['Unnamed: 0','cc_num','merchant','first','last','street','zip','trans_num','unix_time'] are of no use to our analysis."
   ]
  },
  {
   "cell_type": "code",
   "execution_count": 13,
   "id": "28bacb2b",
   "metadata": {},
   "outputs": [
    {
     "name": "stdout",
     "output_type": "stream",
     "text": [
      "14\n"
     ]
    }
   ],
   "source": [
    "df.drop(['Unnamed: 0','cc_num','merchant','first','last','street','zip','job','trans_num','unix_time'],axis=1,inplace=True)\n",
    "print(len(df.columns))"
   ]
  },
  {
   "cell_type": "markdown",
   "id": "3b2c6268",
   "metadata": {},
   "source": [
    "### Feature Extraction"
   ]
  },
  {
   "cell_type": "markdown",
   "id": "5d98a706",
   "metadata": {},
   "source": [
    "> 1. We can extract hour day and month from the trans_date_trans_time column."
   ]
  },
  {
   "cell_type": "code",
   "execution_count": 14,
   "id": "db56e8d2",
   "metadata": {},
   "outputs": [],
   "source": [
    "# Extracting hour\n",
    "df['hour'] = df['trans_date_trans_time'].dt.hour\n",
    "\n",
    "# Month\n",
    "df['month'] = df['trans_date_trans_time'].dt.month\n",
    "\n",
    "# Day\n",
    "df['day'] = df['trans_date_trans_time'].dt.day_name()"
   ]
  },
  {
   "cell_type": "code",
   "execution_count": 15,
   "id": "85cd2fd0",
   "metadata": {},
   "outputs": [
    {
     "data": {
      "text/html": [
       "<div>\n",
       "<style scoped>\n",
       "    .dataframe tbody tr th:only-of-type {\n",
       "        vertical-align: middle;\n",
       "    }\n",
       "\n",
       "    .dataframe tbody tr th {\n",
       "        vertical-align: top;\n",
       "    }\n",
       "\n",
       "    .dataframe thead th {\n",
       "        text-align: right;\n",
       "    }\n",
       "</style>\n",
       "<table border=\"1\" class=\"dataframe\">\n",
       "  <thead>\n",
       "    <tr style=\"text-align: right;\">\n",
       "      <th></th>\n",
       "      <th>trans_date_trans_time</th>\n",
       "      <th>category</th>\n",
       "      <th>amt</th>\n",
       "      <th>gender</th>\n",
       "      <th>city</th>\n",
       "      <th>state</th>\n",
       "      <th>lat</th>\n",
       "      <th>long</th>\n",
       "      <th>city_pop</th>\n",
       "      <th>dob</th>\n",
       "      <th>merch_lat</th>\n",
       "      <th>merch_long</th>\n",
       "      <th>is_fraud</th>\n",
       "      <th>Label</th>\n",
       "      <th>hour</th>\n",
       "      <th>month</th>\n",
       "      <th>day</th>\n",
       "    </tr>\n",
       "  </thead>\n",
       "  <tbody>\n",
       "    <tr>\n",
       "      <th>0</th>\n",
       "      <td>2019-01-01 00:00:18</td>\n",
       "      <td>misc_net</td>\n",
       "      <td>4.97</td>\n",
       "      <td>F</td>\n",
       "      <td>Moravian Falls</td>\n",
       "      <td>NC</td>\n",
       "      <td>36.0788</td>\n",
       "      <td>-81.1781</td>\n",
       "      <td>3495</td>\n",
       "      <td>1988-03-09</td>\n",
       "      <td>36.011293</td>\n",
       "      <td>-82.048315</td>\n",
       "      <td>0</td>\n",
       "      <td>Train</td>\n",
       "      <td>0</td>\n",
       "      <td>1</td>\n",
       "      <td>Tuesday</td>\n",
       "    </tr>\n",
       "    <tr>\n",
       "      <th>1</th>\n",
       "      <td>2019-01-01 00:00:44</td>\n",
       "      <td>grocery_pos</td>\n",
       "      <td>107.23</td>\n",
       "      <td>F</td>\n",
       "      <td>Orient</td>\n",
       "      <td>WA</td>\n",
       "      <td>48.8878</td>\n",
       "      <td>-118.2105</td>\n",
       "      <td>149</td>\n",
       "      <td>1978-06-21</td>\n",
       "      <td>49.159047</td>\n",
       "      <td>-118.186462</td>\n",
       "      <td>0</td>\n",
       "      <td>Train</td>\n",
       "      <td>0</td>\n",
       "      <td>1</td>\n",
       "      <td>Tuesday</td>\n",
       "    </tr>\n",
       "    <tr>\n",
       "      <th>2</th>\n",
       "      <td>2019-01-01 00:00:51</td>\n",
       "      <td>entertainment</td>\n",
       "      <td>220.11</td>\n",
       "      <td>M</td>\n",
       "      <td>Malad City</td>\n",
       "      <td>ID</td>\n",
       "      <td>42.1808</td>\n",
       "      <td>-112.2620</td>\n",
       "      <td>4154</td>\n",
       "      <td>1962-01-19</td>\n",
       "      <td>43.150704</td>\n",
       "      <td>-112.154481</td>\n",
       "      <td>0</td>\n",
       "      <td>Train</td>\n",
       "      <td>0</td>\n",
       "      <td>1</td>\n",
       "      <td>Tuesday</td>\n",
       "    </tr>\n",
       "    <tr>\n",
       "      <th>3</th>\n",
       "      <td>2019-01-01 00:01:16</td>\n",
       "      <td>gas_transport</td>\n",
       "      <td>45.00</td>\n",
       "      <td>M</td>\n",
       "      <td>Boulder</td>\n",
       "      <td>MT</td>\n",
       "      <td>46.2306</td>\n",
       "      <td>-112.1138</td>\n",
       "      <td>1939</td>\n",
       "      <td>1967-01-12</td>\n",
       "      <td>47.034331</td>\n",
       "      <td>-112.561071</td>\n",
       "      <td>0</td>\n",
       "      <td>Train</td>\n",
       "      <td>0</td>\n",
       "      <td>1</td>\n",
       "      <td>Tuesday</td>\n",
       "    </tr>\n",
       "    <tr>\n",
       "      <th>4</th>\n",
       "      <td>2019-01-01 00:03:06</td>\n",
       "      <td>misc_pos</td>\n",
       "      <td>41.96</td>\n",
       "      <td>M</td>\n",
       "      <td>Doe Hill</td>\n",
       "      <td>VA</td>\n",
       "      <td>38.4207</td>\n",
       "      <td>-79.4629</td>\n",
       "      <td>99</td>\n",
       "      <td>1986-03-28</td>\n",
       "      <td>38.674999</td>\n",
       "      <td>-78.632459</td>\n",
       "      <td>0</td>\n",
       "      <td>Train</td>\n",
       "      <td>0</td>\n",
       "      <td>1</td>\n",
       "      <td>Tuesday</td>\n",
       "    </tr>\n",
       "  </tbody>\n",
       "</table>\n",
       "</div>"
      ],
      "text/plain": [
       "  trans_date_trans_time       category     amt gender            city state  \\\n",
       "0   2019-01-01 00:00:18       misc_net    4.97      F  Moravian Falls    NC   \n",
       "1   2019-01-01 00:00:44    grocery_pos  107.23      F          Orient    WA   \n",
       "2   2019-01-01 00:00:51  entertainment  220.11      M      Malad City    ID   \n",
       "3   2019-01-01 00:01:16  gas_transport   45.00      M         Boulder    MT   \n",
       "4   2019-01-01 00:03:06       misc_pos   41.96      M        Doe Hill    VA   \n",
       "\n",
       "       lat      long  city_pop        dob  merch_lat  merch_long  is_fraud  \\\n",
       "0  36.0788  -81.1781      3495 1988-03-09  36.011293  -82.048315         0   \n",
       "1  48.8878 -118.2105       149 1978-06-21  49.159047 -118.186462         0   \n",
       "2  42.1808 -112.2620      4154 1962-01-19  43.150704 -112.154481         0   \n",
       "3  46.2306 -112.1138      1939 1967-01-12  47.034331 -112.561071         0   \n",
       "4  38.4207  -79.4629        99 1986-03-28  38.674999  -78.632459         0   \n",
       "\n",
       "   Label  hour  month      day  \n",
       "0  Train     0      1  Tuesday  \n",
       "1  Train     0      1  Tuesday  \n",
       "2  Train     0      1  Tuesday  \n",
       "3  Train     0      1  Tuesday  \n",
       "4  Train     0      1  Tuesday  "
      ]
     },
     "execution_count": 15,
     "metadata": {},
     "output_type": "execute_result"
    }
   ],
   "source": [
    "df.head()"
   ]
  },
  {
   "cell_type": "markdown",
   "id": "dc899dc8",
   "metadata": {},
   "source": [
    "> 2. Lets get Age from 'dob' column"
   ]
  },
  {
   "cell_type": "code",
   "execution_count": 16,
   "id": "ca28b271",
   "metadata": {},
   "outputs": [],
   "source": [
    "# Converting age into days then into years\n",
    "df['customer_age'] = (df['trans_date_trans_time'] - df['dob']).astype('timedelta64[Y]')"
   ]
  },
  {
   "cell_type": "code",
   "execution_count": 17,
   "id": "5992b9ea",
   "metadata": {},
   "outputs": [
    {
     "data": {
      "text/plain": [
       "0         30.0\n",
       "1         40.0\n",
       "2         56.0\n",
       "3         51.0\n",
       "4         32.0\n",
       "          ... \n",
       "555714    54.0\n",
       "555715    21.0\n",
       "555716    39.0\n",
       "555717    55.0\n",
       "555718    27.0\n",
       "Name: customer_age, Length: 1852394, dtype: float64"
      ]
     },
     "execution_count": 17,
     "metadata": {},
     "output_type": "execute_result"
    }
   ],
   "source": [
    "df['customer_age']"
   ]
  },
  {
   "cell_type": "code",
   "execution_count": 18,
   "id": "464b7fe9",
   "metadata": {},
   "outputs": [],
   "source": [
    "# sns.distplot(df['customer_age'])\n",
    "plt.show()"
   ]
  },
  {
   "cell_type": "code",
   "execution_count": 19,
   "id": "55036d3e",
   "metadata": {},
   "outputs": [
    {
     "data": {
      "text/plain": [
       "<AxesSubplot:xlabel='customer_age'>"
      ]
     },
     "execution_count": 19,
     "metadata": {},
     "output_type": "execute_result"
    },
    {
     "data": {
      "image/png": "[encoded data removed]",
      "text/plain": [
       "<Figure size 640x480 with 1 Axes>"
      ]
     },
     "metadata": {},
     "output_type": "display_data"
    }
   ],
   "source": [
    "# So we can make this feature a categorical variable with different age categories.\n",
    "sns.boxplot(df['customer_age'])"
   ]
  },
  {
   "cell_type": "markdown",
   "id": "a1043314",
   "metadata": {},
   "source": [
    "> 3. You can use the latitudes and longitudes to find the distance between the customer and transaction location."
   ]
  },
  {
   "cell_type": "code",
   "execution_count": 20,
   "id": "d9d46713",
   "metadata": {},
   "outputs": [],
   "source": [
    "# In this method, we use the math module to calculate the distance between two points using their latitude and longitude coordinates\n",
    "from math import radians, sin, cos, acos"
   ]
  },
  {
   "cell_type": "code",
   "execution_count": 21,
   "id": "f9d4af29",
   "metadata": {},
   "outputs": [],
   "source": [
    "# here i have created a function to calculate the distance.\n",
    "def haversine_distance(lat1,lon1,lat2,lon2):\n",
    "  mlat = radians(float(lat1))\n",
    "  mlon = radians(float(lon1))\n",
    "  plat = radians(float(lat2))\n",
    "  plon = radians(float(lon2))\n",
    "  \n",
    "  dist = 6371.01 * acos(sin(mlat)*sin(plat) + cos(mlat)*cos(plat)*cos(mlon - plon))\n",
    "  return np.round(dist,2)"
   ]
  },
  {
   "cell_type": "code",
   "execution_count": 22,
   "id": "4d0d7749",
   "metadata": {},
   "outputs": [],
   "source": [
    "# Here i am using lambda function to save all the distances in a column named distance.\n",
    "df['distance'] = df.apply(lambda row: haversine_distance(row['lat'], row['long'], row['merch_lat'], row['merch_long']), axis=1)"
   ]
  },
  {
   "cell_type": "code",
   "execution_count": 23,
   "id": "8a65a3ae",
   "metadata": {},
   "outputs": [
    {
     "data": {
      "text/html": [
       "<div>\n",
       "<style scoped>\n",
       "    .dataframe tbody tr th:only-of-type {\n",
       "        vertical-align: middle;\n",
       "    }\n",
       "\n",
       "    .dataframe tbody tr th {\n",
       "        vertical-align: top;\n",
       "    }\n",
       "\n",
       "    .dataframe thead th {\n",
       "        text-align: right;\n",
       "    }\n",
       "</style>\n",
       "<table border=\"1\" class=\"dataframe\">\n",
       "  <thead>\n",
       "    <tr style=\"text-align: right;\">\n",
       "      <th></th>\n",
       "      <th>trans_date_trans_time</th>\n",
       "      <th>category</th>\n",
       "      <th>amt</th>\n",
       "      <th>gender</th>\n",
       "      <th>city</th>\n",
       "      <th>state</th>\n",
       "      <th>lat</th>\n",
       "      <th>long</th>\n",
       "      <th>city_pop</th>\n",
       "      <th>dob</th>\n",
       "      <th>merch_lat</th>\n",
       "      <th>merch_long</th>\n",
       "      <th>is_fraud</th>\n",
       "      <th>Label</th>\n",
       "      <th>hour</th>\n",
       "      <th>month</th>\n",
       "      <th>day</th>\n",
       "      <th>customer_age</th>\n",
       "      <th>distance</th>\n",
       "    </tr>\n",
       "  </thead>\n",
       "  <tbody>\n",
       "    <tr>\n",
       "      <th>0</th>\n",
       "      <td>2019-01-01 00:00:18</td>\n",
       "      <td>misc_net</td>\n",
       "      <td>4.97</td>\n",
       "      <td>F</td>\n",
       "      <td>Moravian Falls</td>\n",
       "      <td>NC</td>\n",
       "      <td>36.0788</td>\n",
       "      <td>-81.1781</td>\n",
       "      <td>3495</td>\n",
       "      <td>1988-03-09</td>\n",
       "      <td>36.011293</td>\n",
       "      <td>-82.048315</td>\n",
       "      <td>0</td>\n",
       "      <td>Train</td>\n",
       "      <td>0</td>\n",
       "      <td>1</td>\n",
       "      <td>Tuesday</td>\n",
       "      <td>30.0</td>\n",
       "      <td>78.60</td>\n",
       "    </tr>\n",
       "    <tr>\n",
       "      <th>1</th>\n",
       "      <td>2019-01-01 00:00:44</td>\n",
       "      <td>grocery_pos</td>\n",
       "      <td>107.23</td>\n",
       "      <td>F</td>\n",
       "      <td>Orient</td>\n",
       "      <td>WA</td>\n",
       "      <td>48.8878</td>\n",
       "      <td>-118.2105</td>\n",
       "      <td>149</td>\n",
       "      <td>1978-06-21</td>\n",
       "      <td>49.159047</td>\n",
       "      <td>-118.186462</td>\n",
       "      <td>0</td>\n",
       "      <td>Train</td>\n",
       "      <td>0</td>\n",
       "      <td>1</td>\n",
       "      <td>Tuesday</td>\n",
       "      <td>40.0</td>\n",
       "      <td>30.21</td>\n",
       "    </tr>\n",
       "    <tr>\n",
       "      <th>2</th>\n",
       "      <td>2019-01-01 00:00:51</td>\n",
       "      <td>entertainment</td>\n",
       "      <td>220.11</td>\n",
       "      <td>M</td>\n",
       "      <td>Malad City</td>\n",
       "      <td>ID</td>\n",
       "      <td>42.1808</td>\n",
       "      <td>-112.2620</td>\n",
       "      <td>4154</td>\n",
       "      <td>1962-01-19</td>\n",
       "      <td>43.150704</td>\n",
       "      <td>-112.154481</td>\n",
       "      <td>0</td>\n",
       "      <td>Train</td>\n",
       "      <td>0</td>\n",
       "      <td>1</td>\n",
       "      <td>Tuesday</td>\n",
       "      <td>56.0</td>\n",
       "      <td>108.21</td>\n",
       "    </tr>\n",
       "    <tr>\n",
       "      <th>3</th>\n",
       "      <td>2019-01-01 00:01:16</td>\n",
       "      <td>gas_transport</td>\n",
       "      <td>45.00</td>\n",
       "      <td>M</td>\n",
       "      <td>Boulder</td>\n",
       "      <td>MT</td>\n",
       "      <td>46.2306</td>\n",
       "      <td>-112.1138</td>\n",
       "      <td>1939</td>\n",
       "      <td>1967-01-12</td>\n",
       "      <td>47.034331</td>\n",
       "      <td>-112.561071</td>\n",
       "      <td>0</td>\n",
       "      <td>Train</td>\n",
       "      <td>0</td>\n",
       "      <td>1</td>\n",
       "      <td>Tuesday</td>\n",
       "      <td>51.0</td>\n",
       "      <td>95.67</td>\n",
       "    </tr>\n",
       "    <tr>\n",
       "      <th>4</th>\n",
       "      <td>2019-01-01 00:03:06</td>\n",
       "      <td>misc_pos</td>\n",
       "      <td>41.96</td>\n",
       "      <td>M</td>\n",
       "      <td>Doe Hill</td>\n",
       "      <td>VA</td>\n",
       "      <td>38.4207</td>\n",
       "      <td>-79.4629</td>\n",
       "      <td>99</td>\n",
       "      <td>1986-03-28</td>\n",
       "      <td>38.674999</td>\n",
       "      <td>-78.632459</td>\n",
       "      <td>0</td>\n",
       "      <td>Train</td>\n",
       "      <td>0</td>\n",
       "      <td>1</td>\n",
       "      <td>Tuesday</td>\n",
       "      <td>32.0</td>\n",
       "      <td>77.56</td>\n",
       "    </tr>\n",
       "  </tbody>\n",
       "</table>\n",
       "</div>"
      ],
      "text/plain": [
       "  trans_date_trans_time       category     amt gender            city state  \\\n",
       "0   2019-01-01 00:00:18       misc_net    4.97      F  Moravian Falls    NC   \n",
       "1   2019-01-01 00:00:44    grocery_pos  107.23      F          Orient    WA   \n",
       "2   2019-01-01 00:00:51  entertainment  220.11      M      Malad City    ID   \n",
       "3   2019-01-01 00:01:16  gas_transport   45.00      M         Boulder    MT   \n",
       "4   2019-01-01 00:03:06       misc_pos   41.96      M        Doe Hill    VA   \n",
       "\n",
       "       lat      long  city_pop        dob  merch_lat  merch_long  is_fraud  \\\n",
       "0  36.0788  -81.1781      3495 1988-03-09  36.011293  -82.048315         0   \n",
       "1  48.8878 -118.2105       149 1978-06-21  49.159047 -118.186462         0   \n",
       "2  42.1808 -112.2620      4154 1962-01-19  43.150704 -112.154481         0   \n",
       "3  46.2306 -112.1138      1939 1967-01-12  47.034331 -112.561071         0   \n",
       "4  38.4207  -79.4629        99 1986-03-28  38.674999  -78.632459         0   \n",
       "\n",
       "   Label  hour  month      day  customer_age  distance  \n",
       "0  Train     0      1  Tuesday          30.0     78.60  \n",
       "1  Train     0      1  Tuesday          40.0     30.21  \n",
       "2  Train     0      1  Tuesday          56.0    108.21  \n",
       "3  Train     0      1  Tuesday          51.0     95.67  \n",
       "4  Train     0      1  Tuesday          32.0     77.56  "
      ]
     },
     "execution_count": 23,
     "metadata": {},
     "output_type": "execute_result"
    }
   ],
   "source": [
    "df.head()"
   ]
  },
  {
   "cell_type": "code",
   "execution_count": 24,
   "id": "71e14804",
   "metadata": {},
   "outputs": [],
   "source": [
    "# So we can drop the columns which are of no use.\n",
    "df.drop(['trans_date_trans_time','city','lat','long','merch_lat','dob','merch_long'],axis=1,inplace=True)"
   ]
  },
  {
   "cell_type": "code",
   "execution_count": 25,
   "id": "d5e75725",
   "metadata": {},
   "outputs": [
    {
     "data": {
      "text/plain": [
       "(1852394, 12)"
      ]
     },
     "execution_count": 25,
     "metadata": {},
     "output_type": "execute_result"
    }
   ],
   "source": [
    "df.shape"
   ]
  },
  {
   "cell_type": "code",
   "execution_count": 26,
   "id": "e4c7c1d4",
   "metadata": {},
   "outputs": [
    {
     "data": {
      "image/png": "[encoded data removed]",
      "text/plain": [
       "<Figure size 1600x1000 with 2 Axes>"
      ]
     },
     "metadata": {},
     "output_type": "display_data"
    }
   ],
   "source": [
    "# Let's check the correlation coefficients to see which variables are highly correlated\n",
    "plt.figure(figsize = (16, 10))\n",
    "sns.heatmap(df.corr(), annot = True, cmap=\"YlGnBu\")\n",
    "plt.show()"
   ]
  },
  {
   "cell_type": "code",
   "execution_count": 27,
   "id": "4e6ec893",
   "metadata": {},
   "outputs": [],
   "source": [
    "# Lets check how our target variable is distributed.\n",
    "plot = df['is_fraud'].value_counts(normalize=True)"
   ]
  },
  {
   "cell_type": "code",
   "execution_count": 28,
   "id": "7813ebc0",
   "metadata": {},
   "outputs": [
    {
     "data": {
      "text/plain": [
       "0    0.99479\n",
       "1    0.00521\n",
       "Name: is_fraud, dtype: float64"
      ]
     },
     "execution_count": 28,
     "metadata": {},
     "output_type": "execute_result"
    }
   ],
   "source": [
    "df['is_fraud'].value_counts(normalize=True)"
   ]
  },
  {
   "cell_type": "code",
   "execution_count": 29,
   "id": "42557bf4",
   "metadata": {},
   "outputs": [
    {
     "data": {
      "image/png": "[encoded data removed]",
      "text/plain": [
       "<Figure size 640x480 with 1 Axes>"
      ]
     },
     "metadata": {},
     "output_type": "display_data"
    }
   ],
   "source": [
    "plt.pie(plot,labels = ['non_fraud','fraud'],autopct='%1.1f%%',explode = [0.6, 0])\n",
    "plt.title(\"Distribution of target variable\")\n",
    "plt.show()"
   ]
  },
  {
   "cell_type": "code",
   "execution_count": 30,
   "id": "70606c29",
   "metadata": {},
   "outputs": [],
   "source": [
    "# Since this is highly imbalanced data we need to do data balencing while building the model."
   ]
  },
  {
   "cell_type": "code",
   "execution_count": 31,
   "id": "b7b6f9cf",
   "metadata": {},
   "outputs": [
    {
     "data": {
      "text/plain": [
       "Index(['category', 'gender', 'state', 'Label', 'day'], dtype='object')"
      ]
     },
     "execution_count": 31,
     "metadata": {},
     "output_type": "execute_result"
    }
   ],
   "source": [
    "# lets now do the encoding of variables as most of the variables are categorical variables.\n",
    "cat_columns = df.select_dtypes(exclude = np.number).columns\n",
    "cat_columns"
   ]
  },
  {
   "cell_type": "code",
   "execution_count": 32,
   "id": "3cb828a2",
   "metadata": {},
   "outputs": [
    {
     "data": {
      "text/html": [
       "<div>\n",
       "<style scoped>\n",
       "    .dataframe tbody tr th:only-of-type {\n",
       "        vertical-align: middle;\n",
       "    }\n",
       "\n",
       "    .dataframe tbody tr th {\n",
       "        vertical-align: top;\n",
       "    }\n",
       "\n",
       "    .dataframe thead th {\n",
       "        text-align: right;\n",
       "    }\n",
       "</style>\n",
       "<table border=\"1\" class=\"dataframe\">\n",
       "  <thead>\n",
       "    <tr style=\"text-align: right;\">\n",
       "      <th></th>\n",
       "      <th>category</th>\n",
       "      <th>amt</th>\n",
       "      <th>gender</th>\n",
       "      <th>state</th>\n",
       "      <th>city_pop</th>\n",
       "      <th>is_fraud</th>\n",
       "      <th>Label</th>\n",
       "      <th>hour</th>\n",
       "      <th>month</th>\n",
       "      <th>day</th>\n",
       "      <th>customer_age</th>\n",
       "      <th>distance</th>\n",
       "    </tr>\n",
       "  </thead>\n",
       "  <tbody>\n",
       "    <tr>\n",
       "      <th>0</th>\n",
       "      <td>misc_net</td>\n",
       "      <td>4.97</td>\n",
       "      <td>F</td>\n",
       "      <td>NC</td>\n",
       "      <td>3495</td>\n",
       "      <td>0</td>\n",
       "      <td>Train</td>\n",
       "      <td>0</td>\n",
       "      <td>1</td>\n",
       "      <td>Tuesday</td>\n",
       "      <td>30.0</td>\n",
       "      <td>78.60</td>\n",
       "    </tr>\n",
       "    <tr>\n",
       "      <th>1</th>\n",
       "      <td>grocery_pos</td>\n",
       "      <td>107.23</td>\n",
       "      <td>F</td>\n",
       "      <td>WA</td>\n",
       "      <td>149</td>\n",
       "      <td>0</td>\n",
       "      <td>Train</td>\n",
       "      <td>0</td>\n",
       "      <td>1</td>\n",
       "      <td>Tuesday</td>\n",
       "      <td>40.0</td>\n",
       "      <td>30.21</td>\n",
       "    </tr>\n",
       "    <tr>\n",
       "      <th>2</th>\n",
       "      <td>entertainment</td>\n",
       "      <td>220.11</td>\n",
       "      <td>M</td>\n",
       "      <td>ID</td>\n",
       "      <td>4154</td>\n",
       "      <td>0</td>\n",
       "      <td>Train</td>\n",
       "      <td>0</td>\n",
       "      <td>1</td>\n",
       "      <td>Tuesday</td>\n",
       "      <td>56.0</td>\n",
       "      <td>108.21</td>\n",
       "    </tr>\n",
       "    <tr>\n",
       "      <th>3</th>\n",
       "      <td>gas_transport</td>\n",
       "      <td>45.00</td>\n",
       "      <td>M</td>\n",
       "      <td>MT</td>\n",
       "      <td>1939</td>\n",
       "      <td>0</td>\n",
       "      <td>Train</td>\n",
       "      <td>0</td>\n",
       "      <td>1</td>\n",
       "      <td>Tuesday</td>\n",
       "      <td>51.0</td>\n",
       "      <td>95.67</td>\n",
       "    </tr>\n",
       "    <tr>\n",
       "      <th>4</th>\n",
       "      <td>misc_pos</td>\n",
       "      <td>41.96</td>\n",
       "      <td>M</td>\n",
       "      <td>VA</td>\n",
       "      <td>99</td>\n",
       "      <td>0</td>\n",
       "      <td>Train</td>\n",
       "      <td>0</td>\n",
       "      <td>1</td>\n",
       "      <td>Tuesday</td>\n",
       "      <td>32.0</td>\n",
       "      <td>77.56</td>\n",
       "    </tr>\n",
       "  </tbody>\n",
       "</table>\n",
       "</div>"
      ],
      "text/plain": [
       "        category     amt gender state  city_pop  is_fraud  Label  hour  month  \\\n",
       "0       misc_net    4.97      F    NC      3495         0  Train     0      1   \n",
       "1    grocery_pos  107.23      F    WA       149         0  Train     0      1   \n",
       "2  entertainment  220.11      M    ID      4154         0  Train     0      1   \n",
       "3  gas_transport   45.00      M    MT      1939         0  Train     0      1   \n",
       "4       misc_pos   41.96      M    VA        99         0  Train     0      1   \n",
       "\n",
       "       day  customer_age  distance  \n",
       "0  Tuesday          30.0     78.60  \n",
       "1  Tuesday          40.0     30.21  \n",
       "2  Tuesday          56.0    108.21  \n",
       "3  Tuesday          51.0     95.67  \n",
       "4  Tuesday          32.0     77.56  "
      ]
     },
     "execution_count": 32,
     "metadata": {},
     "output_type": "execute_result"
    }
   ],
   "source": [
    "df.head()"
   ]
  },
  {
   "cell_type": "markdown",
   "id": "fddea81b",
   "metadata": {},
   "source": [
    "### Lets check columnwise data and do the necessary changes"
   ]
  },
  {
   "cell_type": "markdown",
   "id": "c967ba33",
   "metadata": {},
   "source": [
    "### 1. Category column"
   ]
  },
  {
   "cell_type": "code",
   "execution_count": 33,
   "id": "095ed769",
   "metadata": {},
   "outputs": [
    {
     "data": {
      "text/plain": [
       "gas_transport     188029\n",
       "grocery_pos       176191\n",
       "home              175460\n",
       "shopping_pos      166463\n",
       "kids_pets         161727\n",
       "shopping_net      139322\n",
       "entertainment     134118\n",
       "food_dining       130729\n",
       "personal_care     130085\n",
       "health_fitness    122553\n",
       "misc_pos          114229\n",
       "misc_net           90654\n",
       "grocery_net        64878\n",
       "travel             57956\n",
       "Name: category, dtype: int64"
      ]
     },
     "execution_count": 33,
     "metadata": {},
     "output_type": "execute_result"
    }
   ],
   "source": [
    "df['category'].value_counts()"
   ]
  },
  {
   "cell_type": "code",
   "execution_count": 34,
   "id": "214b24af",
   "metadata": {},
   "outputs": [
    {
     "data": {
      "image/png": "[encoded data removed]",
      "text/plain": [
       "<Figure size 1200x500 with 1 Axes>"
      ]
     },
     "metadata": {},
     "output_type": "display_data"
    }
   ],
   "source": [
    "# Lets check category wise fraud count so we will get an idea.\n",
    "plt.figure(figsize=(12,5))\n",
    "sns.countplot(x=df[df['is_fraud']==1].category)\n",
    "plt.xticks(rotation=45)\n",
    "plt.show()"
   ]
  },
  {
   "cell_type": "code",
   "execution_count": 35,
   "id": "7c4b474e",
   "metadata": {},
   "outputs": [],
   "source": [
    "dummy1 = pd.get_dummies(df['category'],drop_first=True)\n",
    "df = pd.concat([df,dummy1],axis=1)"
   ]
  },
  {
   "cell_type": "code",
   "execution_count": 36,
   "id": "23d68eec",
   "metadata": {},
   "outputs": [],
   "source": [
    "df = df.drop(['category'],axis=1)"
   ]
  },
  {
   "cell_type": "markdown",
   "id": "671e9691",
   "metadata": {},
   "source": [
    "### 2. Gender"
   ]
  },
  {
   "cell_type": "code",
   "execution_count": 37,
   "id": "96e8a41b",
   "metadata": {},
   "outputs": [
    {
     "data": {
      "text/plain": [
       "F    1014749\n",
       "M     837645\n",
       "Name: gender, dtype: int64"
      ]
     },
     "execution_count": 37,
     "metadata": {},
     "output_type": "execute_result"
    }
   ],
   "source": [
    "df['gender'].value_counts()"
   ]
  },
  {
   "cell_type": "code",
   "execution_count": 38,
   "id": "02d970e0",
   "metadata": {},
   "outputs": [
    {
     "data": {
      "image/png": "[encoded data removed]",
      "text/plain": [
       "<Figure size 640x480 with 1 Axes>"
      ]
     },
     "metadata": {},
     "output_type": "display_data"
    }
   ],
   "source": [
    "# Lets check Gender wise fraud count so we will get an idea.\n",
    "sns.countplot(x=df[df['is_fraud']==1].gender)\n",
    "plt.show()"
   ]
  },
  {
   "cell_type": "code",
   "execution_count": 39,
   "id": "2f2891fd",
   "metadata": {},
   "outputs": [],
   "source": [
    "dummy2 = pd.get_dummies(df['gender'],drop_first=True)\n",
    "df = pd.concat([df,dummy2],axis=1)\n",
    "df = df.drop(['gender'],axis=1)"
   ]
  },
  {
   "cell_type": "code",
   "execution_count": 40,
   "id": "82130929",
   "metadata": {},
   "outputs": [],
   "source": [
    "df.rename(columns = {\"M\":\"Male\"},inplace=True)"
   ]
  },
  {
   "cell_type": "markdown",
   "id": "8a28bc6e",
   "metadata": {},
   "source": [
    "### 3. State"
   ]
  },
  {
   "cell_type": "code",
   "execution_count": 41,
   "id": "9c54616f",
   "metadata": {},
   "outputs": [
    {
     "data": {
      "text/plain": [
       "51"
      ]
     },
     "execution_count": 41,
     "metadata": {},
     "output_type": "execute_result"
    }
   ],
   "source": [
    "df['state'].nunique()"
   ]
  },
  {
   "cell_type": "code",
   "execution_count": 42,
   "id": "6ac9081a",
   "metadata": {},
   "outputs": [
    {
     "data": {
      "text/plain": [
       "TX    7.302388\n",
       "NY    6.446739\n",
       "PA    6.163538\n",
       "CA    4.345458\n",
       "OH    3.596805\n",
       "MI    3.553510\n",
       "IL    3.358465\n",
       "FL    3.280889\n",
       "AL    3.159209\n",
       "MO    2.963948\n",
       "MN    2.452664\n",
       "AR    2.408289\n",
       "NC    2.328554\n",
       "VA    2.254164\n",
       "WI    2.253192\n",
       "SC    2.252814\n",
       "KY    2.212326\n",
       "IN    2.134481\n",
       "IA    2.094803\n",
       "OK    2.054099\n",
       "MD    2.016040\n",
       "GA    2.015770\n",
       "WV    1.971989\n",
       "NJ    1.896519\n",
       "NE    1.858406\n",
       "KS    1.778185\n",
       "MS    1.620660\n",
       "LA    1.616989\n",
       "WY    1.499465\n",
       "WA    1.459733\n",
       "OR    1.425615\n",
       "TN    1.344908\n",
       "ME    1.265012\n",
       "NM    1.264688\n",
       "ND    1.143547\n",
       "CO    1.067052\n",
       "SD    0.948718\n",
       "MA    0.948070\n",
       "VT    0.907582\n",
       "MT    0.907258\n",
       "AZ    0.829305\n",
       "UT    0.829035\n",
       "NH    0.633073\n",
       "CT    0.592692\n",
       "NV    0.435005\n",
       "ID    0.433763\n",
       "DC    0.276939\n",
       "HI    0.196988\n",
       "AK    0.159955\n",
       "RI    0.040218\n",
       "DE    0.000486\n",
       "Name: state, dtype: float64"
      ]
     },
     "execution_count": 42,
     "metadata": {},
     "output_type": "execute_result"
    }
   ],
   "source": [
    "df['state'].value_counts(normalize=True)*100"
   ]
  },
  {
   "cell_type": "code",
   "execution_count": 43,
   "id": "c688b65a",
   "metadata": {},
   "outputs": [
    {
     "data": {
      "image/png": "[encoded data removed]",
      "text/plain": [
       "<Figure size 1700x500 with 1 Axes>"
      ]
     },
     "metadata": {},
     "output_type": "display_data"
    }
   ],
   "source": [
    "# The fraud transactions by State are as follows.\n",
    "plt.figure(figsize=(17,5))\n",
    "plt.title('state')\n",
    "sns.countplot(x=df[df['is_fraud']==1].state)\n",
    "plt.show()"
   ]
  },
  {
   "cell_type": "code",
   "execution_count": 44,
   "id": "faeab4ef",
   "metadata": {},
   "outputs": [],
   "source": [
    "# The top 5 states which has most fraud transactions are Texas, New york, PA, California and Ohio."
   ]
  },
  {
   "cell_type": "code",
   "execution_count": 45,
   "id": "316a62e2",
   "metadata": {},
   "outputs": [],
   "source": [
    "# Lets reduce the categories and keep a threshold of 1% where categories less than 1% will fall into Ohter states.\n",
    "counts = df['state'].value_counts(normalize=True)*100\n",
    "threshold = 3.58"
   ]
  },
  {
   "cell_type": "code",
   "execution_count": 46,
   "id": "74ae9cb3",
   "metadata": {},
   "outputs": [],
   "source": [
    "switch = counts[counts<threshold].index"
   ]
  },
  {
   "cell_type": "code",
   "execution_count": 47,
   "id": "1c356422",
   "metadata": {},
   "outputs": [],
   "source": [
    "dummy3 = pd.get_dummies(df['state'].replace(switch,\"Others\"))"
   ]
  },
  {
   "cell_type": "code",
   "execution_count": 48,
   "id": "8ff0f623",
   "metadata": {},
   "outputs": [],
   "source": [
    "df = pd.concat([df,dummy3],axis=1)"
   ]
  },
  {
   "cell_type": "code",
   "execution_count": 49,
   "id": "f28f0991",
   "metadata": {},
   "outputs": [],
   "source": [
    "# Now we can drop the State column and any one column from the dummy variable created\n",
    "df.drop(['state','OH'],axis=1,inplace=True)"
   ]
  },
  {
   "cell_type": "code",
   "execution_count": 50,
   "id": "eb211abf",
   "metadata": {},
   "outputs": [
    {
     "data": {
      "text/html": [
       "<div>\n",
       "<style scoped>\n",
       "    .dataframe tbody tr th:only-of-type {\n",
       "        vertical-align: middle;\n",
       "    }\n",
       "\n",
       "    .dataframe tbody tr th {\n",
       "        vertical-align: top;\n",
       "    }\n",
       "\n",
       "    .dataframe thead th {\n",
       "        text-align: right;\n",
       "    }\n",
       "</style>\n",
       "<table border=\"1\" class=\"dataframe\">\n",
       "  <thead>\n",
       "    <tr style=\"text-align: right;\">\n",
       "      <th></th>\n",
       "      <th>amt</th>\n",
       "      <th>city_pop</th>\n",
       "      <th>is_fraud</th>\n",
       "      <th>Label</th>\n",
       "      <th>hour</th>\n",
       "      <th>month</th>\n",
       "      <th>day</th>\n",
       "      <th>customer_age</th>\n",
       "      <th>distance</th>\n",
       "      <th>food_dining</th>\n",
       "      <th>gas_transport</th>\n",
       "      <th>grocery_net</th>\n",
       "      <th>grocery_pos</th>\n",
       "      <th>health_fitness</th>\n",
       "      <th>home</th>\n",
       "      <th>kids_pets</th>\n",
       "      <th>misc_net</th>\n",
       "      <th>misc_pos</th>\n",
       "      <th>personal_care</th>\n",
       "      <th>shopping_net</th>\n",
       "      <th>shopping_pos</th>\n",
       "      <th>travel</th>\n",
       "      <th>Male</th>\n",
       "      <th>CA</th>\n",
       "      <th>NY</th>\n",
       "      <th>Others</th>\n",
       "      <th>PA</th>\n",
       "      <th>TX</th>\n",
       "    </tr>\n",
       "  </thead>\n",
       "  <tbody>\n",
       "    <tr>\n",
       "      <th>0</th>\n",
       "      <td>4.97</td>\n",
       "      <td>3495</td>\n",
       "      <td>0</td>\n",
       "      <td>Train</td>\n",
       "      <td>0</td>\n",
       "      <td>1</td>\n",
       "      <td>Tuesday</td>\n",
       "      <td>30.0</td>\n",
       "      <td>78.60</td>\n",
       "      <td>0</td>\n",
       "      <td>0</td>\n",
       "      <td>0</td>\n",
       "      <td>0</td>\n",
       "      <td>0</td>\n",
       "      <td>0</td>\n",
       "      <td>0</td>\n",
       "      <td>1</td>\n",
       "      <td>0</td>\n",
       "      <td>0</td>\n",
       "      <td>0</td>\n",
       "      <td>0</td>\n",
       "      <td>0</td>\n",
       "      <td>0</td>\n",
       "      <td>0</td>\n",
       "      <td>0</td>\n",
       "      <td>1</td>\n",
       "      <td>0</td>\n",
       "      <td>0</td>\n",
       "    </tr>\n",
       "    <tr>\n",
       "      <th>1</th>\n",
       "      <td>107.23</td>\n",
       "      <td>149</td>\n",
       "      <td>0</td>\n",
       "      <td>Train</td>\n",
       "      <td>0</td>\n",
       "      <td>1</td>\n",
       "      <td>Tuesday</td>\n",
       "      <td>40.0</td>\n",
       "      <td>30.21</td>\n",
       "      <td>0</td>\n",
       "      <td>0</td>\n",
       "      <td>0</td>\n",
       "      <td>1</td>\n",
       "      <td>0</td>\n",
       "      <td>0</td>\n",
       "      <td>0</td>\n",
       "      <td>0</td>\n",
       "      <td>0</td>\n",
       "      <td>0</td>\n",
       "      <td>0</td>\n",
       "      <td>0</td>\n",
       "      <td>0</td>\n",
       "      <td>0</td>\n",
       "      <td>0</td>\n",
       "      <td>0</td>\n",
       "      <td>1</td>\n",
       "      <td>0</td>\n",
       "      <td>0</td>\n",
       "    </tr>\n",
       "    <tr>\n",
       "      <th>2</th>\n",
       "      <td>220.11</td>\n",
       "      <td>4154</td>\n",
       "      <td>0</td>\n",
       "      <td>Train</td>\n",
       "      <td>0</td>\n",
       "      <td>1</td>\n",
       "      <td>Tuesday</td>\n",
       "      <td>56.0</td>\n",
       "      <td>108.21</td>\n",
       "      <td>0</td>\n",
       "      <td>0</td>\n",
       "      <td>0</td>\n",
       "      <td>0</td>\n",
       "      <td>0</td>\n",
       "      <td>0</td>\n",
       "      <td>0</td>\n",
       "      <td>0</td>\n",
       "      <td>0</td>\n",
       "      <td>0</td>\n",
       "      <td>0</td>\n",
       "      <td>0</td>\n",
       "      <td>0</td>\n",
       "      <td>1</td>\n",
       "      <td>0</td>\n",
       "      <td>0</td>\n",
       "      <td>1</td>\n",
       "      <td>0</td>\n",
       "      <td>0</td>\n",
       "    </tr>\n",
       "    <tr>\n",
       "      <th>3</th>\n",
       "      <td>45.00</td>\n",
       "      <td>1939</td>\n",
       "      <td>0</td>\n",
       "      <td>Train</td>\n",
       "      <td>0</td>\n",
       "      <td>1</td>\n",
       "      <td>Tuesday</td>\n",
       "      <td>51.0</td>\n",
       "      <td>95.67</td>\n",
       "      <td>0</td>\n",
       "      <td>1</td>\n",
       "      <td>0</td>\n",
       "      <td>0</td>\n",
       "      <td>0</td>\n",
       "      <td>0</td>\n",
       "      <td>0</td>\n",
       "      <td>0</td>\n",
       "      <td>0</td>\n",
       "      <td>0</td>\n",
       "      <td>0</td>\n",
       "      <td>0</td>\n",
       "      <td>0</td>\n",
       "      <td>1</td>\n",
       "      <td>0</td>\n",
       "      <td>0</td>\n",
       "      <td>1</td>\n",
       "      <td>0</td>\n",
       "      <td>0</td>\n",
       "    </tr>\n",
       "    <tr>\n",
       "      <th>4</th>\n",
       "      <td>41.96</td>\n",
       "      <td>99</td>\n",
       "      <td>0</td>\n",
       "      <td>Train</td>\n",
       "      <td>0</td>\n",
       "      <td>1</td>\n",
       "      <td>Tuesday</td>\n",
       "      <td>32.0</td>\n",
       "      <td>77.56</td>\n",
       "      <td>0</td>\n",
       "      <td>0</td>\n",
       "      <td>0</td>\n",
       "      <td>0</td>\n",
       "      <td>0</td>\n",
       "      <td>0</td>\n",
       "      <td>0</td>\n",
       "      <td>0</td>\n",
       "      <td>1</td>\n",
       "      <td>0</td>\n",
       "      <td>0</td>\n",
       "      <td>0</td>\n",
       "      <td>0</td>\n",
       "      <td>1</td>\n",
       "      <td>0</td>\n",
       "      <td>0</td>\n",
       "      <td>1</td>\n",
       "      <td>0</td>\n",
       "      <td>0</td>\n",
       "    </tr>\n",
       "  </tbody>\n",
       "</table>\n",
       "</div>"
      ],
      "text/plain": [
       "      amt  city_pop  is_fraud  Label  hour  month      day  customer_age  \\\n",
       "0    4.97      3495         0  Train     0      1  Tuesday          30.0   \n",
       "1  107.23       149         0  Train     0      1  Tuesday          40.0   \n",
       "2  220.11      4154         0  Train     0      1  Tuesday          56.0   \n",
       "3   45.00      1939         0  Train     0      1  Tuesday          51.0   \n",
       "4   41.96        99         0  Train     0      1  Tuesday          32.0   \n",
       "\n",
       "   distance  food_dining  gas_transport  grocery_net  grocery_pos  \\\n",
       "0     78.60            0              0            0            0   \n",
       "1     30.21            0              0            0            1   \n",
       "2    108.21            0              0            0            0   \n",
       "3     95.67            0              1            0            0   \n",
       "4     77.56            0              0            0            0   \n",
       "\n",
       "   health_fitness  home  kids_pets  misc_net  misc_pos  personal_care  \\\n",
       "0               0     0          0         1         0              0   \n",
       "1               0     0          0         0         0              0   \n",
       "2               0     0          0         0         0              0   \n",
       "3               0     0          0         0         0              0   \n",
       "4               0     0          0         0         1              0   \n",
       "\n",
       "   shopping_net  shopping_pos  travel  Male  CA  NY  Others  PA  TX  \n",
       "0             0             0       0     0   0   0       1   0   0  \n",
       "1             0             0       0     0   0   0       1   0   0  \n",
       "2             0             0       0     1   0   0       1   0   0  \n",
       "3             0             0       0     1   0   0       1   0   0  \n",
       "4             0             0       0     1   0   0       1   0   0  "
      ]
     },
     "execution_count": 50,
     "metadata": {},
     "output_type": "execute_result"
    }
   ],
   "source": [
    "df.head()"
   ]
  },
  {
   "cell_type": "markdown",
   "id": "a5fac390",
   "metadata": {},
   "source": [
    "### 4. Hour"
   ]
  },
  {
   "cell_type": "code",
   "execution_count": 51,
   "id": "c038f6e1",
   "metadata": {},
   "outputs": [
    {
     "data": {
      "text/plain": [
       "23    95902\n",
       "22    95370\n",
       "16    94289\n",
       "18    94052\n",
       "21    93738\n",
       "17    93514\n",
       "13    93492\n",
       "15    93439\n",
       "19    93433\n",
       "12    93294\n",
       "14    93089\n",
       "20    93081\n",
       "1     61330\n",
       "3     60968\n",
       "2     60796\n",
       "0     60655\n",
       "8     60498\n",
       "6     60406\n",
       "10    60320\n",
       "7     60301\n",
       "9     60231\n",
       "11    60170\n",
       "5     60088\n",
       "4     59938\n",
       "Name: hour, dtype: int64"
      ]
     },
     "execution_count": 51,
     "metadata": {},
     "output_type": "execute_result"
    }
   ],
   "source": [
    "df['hour'].value_counts()"
   ]
  },
  {
   "cell_type": "code",
   "execution_count": 52,
   "id": "05c6ed7a",
   "metadata": {},
   "outputs": [
    {
     "data": {
      "image/png": "[encoded data removed]",
      "text/plain": [
       "<Figure size 1700x500 with 1 Axes>"
      ]
     },
     "metadata": {},
     "output_type": "display_data"
    }
   ],
   "source": [
    "# The fraud transactions by hour are as follows.\n",
    "plt.figure(figsize=(17,5))\n",
    "plt.title('hour')\n",
    "sns.countplot(x=df[df['is_fraud']==1].hour)\n",
    "plt.show()"
   ]
  },
  {
   "cell_type": "markdown",
   "id": "311d858f",
   "metadata": {},
   "source": [
    "- We can see that mostly after 12th hour the fraud transactions have increased.\n",
    "- It is obvious that mostly fraud transactions are during day time as people tend to shop during the day time."
   ]
  },
  {
   "cell_type": "code",
   "execution_count": 53,
   "id": "2a068eb0",
   "metadata": {},
   "outputs": [],
   "source": [
    "# We are making bins for different time intervals\n",
    "bins = [0, 5, 11, 17, 23]\n",
    "labels = ['0-5', '6-11', '12-17', '18-23']\n",
    "df['grade'] = pd.cut(x = df['hour'], bins = bins, labels = labels, include_lowest = True)"
   ]
  },
  {
   "cell_type": "code",
   "execution_count": 54,
   "id": "b3118fa4",
   "metadata": {},
   "outputs": [
    {
     "data": {
      "text/plain": [
       "18-23    565576\n",
       "12-17    561117\n",
       "0-5      363775\n",
       "6-11     361926\n",
       "Name: grade, dtype: int64"
      ]
     },
     "execution_count": 54,
     "metadata": {},
     "output_type": "execute_result"
    }
   ],
   "source": [
    "df['grade'].value_counts()"
   ]
  },
  {
   "cell_type": "code",
   "execution_count": 55,
   "id": "98682791",
   "metadata": {},
   "outputs": [],
   "source": [
    "dummy4 = pd.get_dummies(df['grade'],drop_first=True)\n",
    "df = pd.concat([df,dummy4],axis=1)\n",
    "df = df.drop(['grade','hour'],axis=1)"
   ]
  },
  {
   "cell_type": "markdown",
   "id": "b0d4e5c8",
   "metadata": {},
   "source": [
    "### 5. Month"
   ]
  },
  {
   "cell_type": "code",
   "execution_count": 56,
   "id": "f5745de2",
   "metadata": {},
   "outputs": [
    {
     "data": {
      "text/plain": [
       "12    280598\n",
       "8     176118\n",
       "6     173869\n",
       "7     172444\n",
       "5     146875\n",
       "3     143789\n",
       "11    143056\n",
       "9     140185\n",
       "10    138106\n",
       "4     134970\n",
       "1     104727\n",
       "2      97657\n",
       "Name: month, dtype: int64"
      ]
     },
     "execution_count": 56,
     "metadata": {},
     "output_type": "execute_result"
    }
   ],
   "source": [
    "df['month'].value_counts()"
   ]
  },
  {
   "cell_type": "code",
   "execution_count": 57,
   "id": "89c3c2af",
   "metadata": {},
   "outputs": [
    {
     "data": {
      "image/png": "[encoded data removed]",
      "text/plain": [
       "<Figure size 1700x500 with 1 Axes>"
      ]
     },
     "metadata": {},
     "output_type": "display_data"
    }
   ],
   "source": [
    "# The fraud transactions by month are as follows.\n",
    "plt.figure(figsize=(17,5))\n",
    "plt.title('month')\n",
    "sns.countplot(x=df[df['is_fraud']==1].month)\n",
    "plt.show()"
   ]
  },
  {
   "cell_type": "code",
   "execution_count": 58,
   "id": "2aad26af",
   "metadata": {},
   "outputs": [],
   "source": [
    "dummy5 = pd.get_dummies(df['month'],drop_first=True)\n",
    "df = pd.concat([df,dummy5],axis=1)\n",
    "df = df.drop(['month'],axis=1)"
   ]
  },
  {
   "cell_type": "markdown",
   "id": "5461338b",
   "metadata": {},
   "source": [
    "### 6. Day"
   ]
  },
  {
   "cell_type": "code",
   "execution_count": 59,
   "id": "f09d094e",
   "metadata": {},
   "outputs": [
    {
     "data": {
      "text/plain": [
       "Monday       369418\n",
       "Sunday       343677\n",
       "Tuesday      270340\n",
       "Saturday     263227\n",
       "Friday       215078\n",
       "Thursday     206741\n",
       "Wednesday    183913\n",
       "Name: day, dtype: int64"
      ]
     },
     "execution_count": 59,
     "metadata": {},
     "output_type": "execute_result"
    }
   ],
   "source": [
    "df['day'].value_counts()"
   ]
  },
  {
   "cell_type": "code",
   "execution_count": 60,
   "id": "45b1bc95",
   "metadata": {},
   "outputs": [
    {
     "data": {
      "image/png": "[encoded data removed]",
      "text/plain": [
       "<Figure size 1700x500 with 1 Axes>"
      ]
     },
     "metadata": {},
     "output_type": "display_data"
    }
   ],
   "source": [
    "# The fraud transactions by Day are as follows.\n",
    "plt.figure(figsize=(17,5))\n",
    "plt.title('Day')\n",
    "sns.countplot(x=df[df['is_fraud']==1].day)\n",
    "plt.show()"
   ]
  },
  {
   "cell_type": "code",
   "execution_count": 61,
   "id": "95947d09",
   "metadata": {},
   "outputs": [],
   "source": [
    "dummy6 = pd.get_dummies(df['day'],drop_first=True)\n",
    "df = pd.concat([df,dummy6],axis=1)\n",
    "df = df.drop(['day'],axis=1)"
   ]
  },
  {
   "cell_type": "markdown",
   "id": "b292fa29",
   "metadata": {},
   "source": [
    "## Outlier treatment"
   ]
  },
  {
   "cell_type": "markdown",
   "id": "2dc39a01",
   "metadata": {},
   "source": [
    "### 7. Amt 'Amount'"
   ]
  },
  {
   "cell_type": "code",
   "execution_count": 62,
   "id": "334f7fa3",
   "metadata": {},
   "outputs": [
    {
     "data": {
      "image/png": "[encoded data removed]",
      "text/plain": [
       "<Figure size 1000x200 with 1 Axes>"
      ]
     },
     "metadata": {},
     "output_type": "display_data"
    }
   ],
   "source": [
    "plt.figure(figsize=(10,2))\n",
    "sns.boxplot(df['amt'])\n",
    "plt.show()"
   ]
  },
  {
   "cell_type": "code",
   "execution_count": 63,
   "id": "8c2fffce",
   "metadata": {},
   "outputs": [
    {
     "data": {
      "text/plain": [
       "<AxesSubplot:xlabel='amt', ylabel='Density'>"
      ]
     },
     "execution_count": 63,
     "metadata": {},
     "output_type": "execute_result"
    },
    {
     "data": {
      "image/png": "[encoded data removed]",
      "text/plain": [
       "<Figure size 1000x300 with 1 Axes>"
      ]
     },
     "metadata": {},
     "output_type": "display_data"
    }
   ],
   "source": [
    "plt.figure(figsize=(10,3))\n",
    "sns.distplot(df['amt'])"
   ]
  },
  {
   "cell_type": "markdown",
   "id": "45686d44",
   "metadata": {},
   "source": [
    "- Since there are huge outliers and data clearly seems to be skewed\n",
    "- we need to treat this outliers by capping technique as they are huge in numbers."
   ]
  },
  {
   "cell_type": "code",
   "execution_count": 64,
   "id": "1dd5988e",
   "metadata": {},
   "outputs": [],
   "source": [
    "df1 = df[df['is_fraud']==0]\n",
    "df2 = df[df['is_fraud']==1]"
   ]
  },
  {
   "cell_type": "markdown",
   "id": "543ce371",
   "metadata": {},
   "source": [
    "### For non fraud amount"
   ]
  },
  {
   "cell_type": "code",
   "execution_count": 65,
   "id": "2258ce81",
   "metadata": {},
   "outputs": [
    {
     "data": {
      "image/png": "[encoded data removed]",
      "text/plain": [
       "<Figure size 640x480 with 1 Axes>"
      ]
     },
     "metadata": {},
     "output_type": "display_data"
    }
   ],
   "source": [
    "sns.distplot(df1['amt'])\n",
    "plt.show()"
   ]
  },
  {
   "cell_type": "markdown",
   "id": "4d397616",
   "metadata": {},
   "source": [
    "### For fraud amount"
   ]
  },
  {
   "cell_type": "code",
   "execution_count": 66,
   "id": "c14e5620",
   "metadata": {},
   "outputs": [
    {
     "data": {
      "text/plain": [
       "<AxesSubplot:xlabel='amt', ylabel='Density'>"
      ]
     },
     "execution_count": 66,
     "metadata": {},
     "output_type": "execute_result"
    },
    {
     "data": {
      "image/png": "[encoded data removed]",
      "text/plain": [
       "<Figure size 640x480 with 1 Axes>"
      ]
     },
     "metadata": {},
     "output_type": "display_data"
    }
   ],
   "source": [
    "sns.distplot(df2['amt'])"
   ]
  },
  {
   "cell_type": "code",
   "execution_count": 67,
   "id": "efd2d081",
   "metadata": {},
   "outputs": [
    {
     "data": {
      "text/plain": [
       "count    1.852394e+06\n",
       "mean     7.006357e+01\n",
       "std      1.592540e+02\n",
       "min      1.000000e+00\n",
       "10%      4.100000e+00\n",
       "25%      9.640000e+00\n",
       "50%      4.745000e+01\n",
       "75%      8.310000e+01\n",
       "80%      9.459000e+01\n",
       "86%      1.149900e+02\n",
       "90%      1.363300e+02\n",
       "95%      1.953400e+02\n",
       "96%      2.130500e+02\n",
       "97%      2.451500e+02\n",
       "98%      3.327100e+02\n",
       "99%      5.379000e+02\n",
       "max      2.894890e+04\n",
       "Name: amt, dtype: float64"
      ]
     },
     "execution_count": 67,
     "metadata": {},
     "output_type": "execute_result"
    }
   ],
   "source": [
    "df['amt'].describe(percentiles=[0.1,0.25,0.50,0.75,0.80,0.86,0.90,0.95,0.96,0.97,0.98,0.99])"
   ]
  },
  {
   "cell_type": "code",
   "execution_count": 68,
   "id": "368d91b0",
   "metadata": {},
   "outputs": [],
   "source": [
    "percentile = df['amt'].quantile([0.05,0.94]).values\n",
    "df['amt'][df['amt']<= percentile[0]] = percentile[0]\n",
    "df['amt'][df['amt']>= percentile[1]] = percentile[1]"
   ]
  },
  {
   "cell_type": "code",
   "execution_count": 69,
   "id": "1e424fc5",
   "metadata": {},
   "outputs": [
    {
     "data": {
      "image/png": "[encoded data removed]",
      "text/plain": [
       "<Figure size 1000x200 with 1 Axes>"
      ]
     },
     "metadata": {},
     "output_type": "display_data"
    }
   ],
   "source": [
    "plt.figure(figsize=(10,2))\n",
    "sns.boxplot(df['amt'])\n",
    "plt.show()"
   ]
  },
  {
   "cell_type": "markdown",
   "id": "31ed13ad",
   "metadata": {},
   "source": [
    "### 8. City population"
   ]
  },
  {
   "cell_type": "code",
   "execution_count": 70,
   "id": "4e898ec3",
   "metadata": {},
   "outputs": [
    {
     "data": {
      "image/png": "[encoded data removed]",
      "text/plain": [
       "<Figure size 1000x200 with 1 Axes>"
      ]
     },
     "metadata": {},
     "output_type": "display_data"
    }
   ],
   "source": [
    "plt.figure(figsize=(10,2))\n",
    "sns.boxplot(df['city_pop'])\n",
    "plt.show()"
   ]
  },
  {
   "cell_type": "code",
   "execution_count": 71,
   "id": "f02604b3",
   "metadata": {},
   "outputs": [
    {
     "data": {
      "text/plain": [
       "count    1.852394e+06\n",
       "mean     8.864367e+04\n",
       "std      3.014876e+05\n",
       "min      2.300000e+01\n",
       "10%      2.600000e+02\n",
       "25%      7.410000e+02\n",
       "50%      2.443000e+03\n",
       "75%      2.032800e+04\n",
       "80%      4.238400e+04\n",
       "86%      9.432500e+04\n",
       "90%      1.861400e+05\n",
       "95%      5.257130e+05\n",
       "96%      6.872760e+05\n",
       "97%      9.101480e+05\n",
       "98%      1.263321e+06\n",
       "99%      1.577385e+06\n",
       "max      2.906700e+06\n",
       "Name: city_pop, dtype: float64"
      ]
     },
     "execution_count": 71,
     "metadata": {},
     "output_type": "execute_result"
    }
   ],
   "source": [
    "df['city_pop'].describe(percentiles=[0.1,0.25,0.50,0.75,0.80,0.86,0.90,0.95,0.96,0.97,0.98,0.99])"
   ]
  },
  {
   "cell_type": "code",
   "execution_count": 72,
   "id": "b181fb0d",
   "metadata": {},
   "outputs": [],
   "source": [
    "percentile = df['city_pop'].quantile([0.05,0.81]).values\n",
    "df['city_pop'][df['city_pop']<= percentile[0]] = percentile[0]\n",
    "df['city_pop'][df['city_pop']>= percentile[1]] = percentile[1]"
   ]
  },
  {
   "cell_type": "code",
   "execution_count": 73,
   "id": "1715fc08",
   "metadata": {},
   "outputs": [
    {
     "data": {
      "image/png": "[encoded data removed]",
      "text/plain": [
       "<Figure size 1000x200 with 1 Axes>"
      ]
     },
     "metadata": {},
     "output_type": "display_data"
    }
   ],
   "source": [
    "plt.figure(figsize=(10,2))\n",
    "sns.boxplot(df['city_pop'])\n",
    "plt.show()"
   ]
  },
  {
   "cell_type": "markdown",
   "id": "fc59fe4f",
   "metadata": {},
   "source": [
    "### 9. Customer age"
   ]
  },
  {
   "cell_type": "code",
   "execution_count": 74,
   "id": "551c316c",
   "metadata": {},
   "outputs": [],
   "source": [
    "df['customer_age'] = df['customer_age'].astype(int)"
   ]
  },
  {
   "cell_type": "code",
   "execution_count": 75,
   "id": "94e4aa7f",
   "metadata": {},
   "outputs": [
    {
     "data": {
      "image/png": "[encoded data removed]",
      "text/plain": [
       "<Figure size 1000x200 with 1 Axes>"
      ]
     },
     "metadata": {},
     "output_type": "display_data"
    }
   ],
   "source": [
    "plt.figure(figsize=(10,2))\n",
    "sns.boxplot(df['customer_age'])\n",
    "plt.show()"
   ]
  },
  {
   "cell_type": "code",
   "execution_count": 76,
   "id": "9d74ebcd",
   "metadata": {},
   "outputs": [
    {
     "data": {
      "text/plain": [
       "count    1.852394e+06\n",
       "mean     4.576596e+01\n",
       "std      1.741268e+01\n",
       "min      1.300000e+01\n",
       "10%      2.500000e+01\n",
       "25%      3.200000e+01\n",
       "50%      4.400000e+01\n",
       "75%      5.700000e+01\n",
       "80%      6.000000e+01\n",
       "86%      6.600000e+01\n",
       "90%      7.000000e+01\n",
       "95%      7.900000e+01\n",
       "96%      8.300000e+01\n",
       "97%      8.500000e+01\n",
       "98%      8.900000e+01\n",
       "99%      9.100000e+01\n",
       "max      9.600000e+01\n",
       "Name: customer_age, dtype: float64"
      ]
     },
     "execution_count": 76,
     "metadata": {},
     "output_type": "execute_result"
    }
   ],
   "source": [
    "df['customer_age'].describe(percentiles=[0.1,0.25,0.50,0.75,0.80,0.86,0.90,0.95,0.96,0.97,0.98,0.99])"
   ]
  },
  {
   "cell_type": "code",
   "execution_count": 77,
   "id": "de1ea54c",
   "metadata": {},
   "outputs": [],
   "source": [
    "percentile = df['customer_age'].quantile([0.05,0.99]).values\n",
    "df['customer_age'][df['customer_age']<= percentile[0]] = percentile[0]\n",
    "df['customer_age'][df['customer_age']>= percentile[1]] = percentile[1]"
   ]
  },
  {
   "cell_type": "code",
   "execution_count": 78,
   "id": "9a689b74",
   "metadata": {},
   "outputs": [
    {
     "data": {
      "image/png": "[encoded data removed]",
      "text/plain": [
       "<Figure size 1000x200 with 1 Axes>"
      ]
     },
     "metadata": {},
     "output_type": "display_data"
    }
   ],
   "source": [
    "plt.figure(figsize=(10,2))\n",
    "sns.boxplot(df['customer_age'])\n",
    "plt.show()"
   ]
  },
  {
   "cell_type": "code",
   "execution_count": 79,
   "id": "21a9bb54",
   "metadata": {},
   "outputs": [
    {
     "data": {
      "text/plain": [
       "<AxesSubplot:xlabel='customer_age', ylabel='Density'>"
      ]
     },
     "execution_count": 79,
     "metadata": {},
     "output_type": "execute_result"
    },
    {
     "data": {
      "image/png": "[encoded data removed]",
      "text/plain": [
       "<Figure size 1000x300 with 1 Axes>"
      ]
     },
     "metadata": {},
     "output_type": "display_data"
    }
   ],
   "source": [
    "plt.figure(figsize=(10,3))\n",
    "sns.distplot(df['customer_age'])"
   ]
  },
  {
   "cell_type": "markdown",
   "id": "5b25fc3e",
   "metadata": {},
   "source": [
    "### 10. Distance"
   ]
  },
  {
   "cell_type": "code",
   "execution_count": 80,
   "id": "cb2f46ea",
   "metadata": {},
   "outputs": [
    {
     "data": {
      "image/png": "[encoded data removed]",
      "text/plain": [
       "<Figure size 1000x200 with 1 Axes>"
      ]
     },
     "metadata": {},
     "output_type": "display_data"
    }
   ],
   "source": [
    "plt.figure(figsize=(10,2))\n",
    "sns.boxplot(df['distance'])\n",
    "plt.show()"
   ]
  },
  {
   "cell_type": "code",
   "execution_count": 81,
   "id": "0d8fdb5f",
   "metadata": {
    "scrolled": true
   },
   "outputs": [
    {
     "data": {
      "text/html": [
       "<div>\n",
       "<style scoped>\n",
       "    .dataframe tbody tr th:only-of-type {\n",
       "        vertical-align: middle;\n",
       "    }\n",
       "\n",
       "    .dataframe tbody tr th {\n",
       "        vertical-align: top;\n",
       "    }\n",
       "\n",
       "    .dataframe thead th {\n",
       "        text-align: right;\n",
       "    }\n",
       "</style>\n",
       "<table border=\"1\" class=\"dataframe\">\n",
       "  <thead>\n",
       "    <tr style=\"text-align: right;\">\n",
       "      <th></th>\n",
       "      <th>amt</th>\n",
       "      <th>city_pop</th>\n",
       "      <th>is_fraud</th>\n",
       "      <th>Label</th>\n",
       "      <th>customer_age</th>\n",
       "      <th>distance</th>\n",
       "      <th>food_dining</th>\n",
       "      <th>gas_transport</th>\n",
       "      <th>grocery_net</th>\n",
       "      <th>grocery_pos</th>\n",
       "      <th>health_fitness</th>\n",
       "      <th>home</th>\n",
       "      <th>kids_pets</th>\n",
       "      <th>misc_net</th>\n",
       "      <th>misc_pos</th>\n",
       "      <th>personal_care</th>\n",
       "      <th>shopping_net</th>\n",
       "      <th>shopping_pos</th>\n",
       "      <th>travel</th>\n",
       "      <th>Male</th>\n",
       "      <th>CA</th>\n",
       "      <th>NY</th>\n",
       "      <th>Others</th>\n",
       "      <th>PA</th>\n",
       "      <th>TX</th>\n",
       "      <th>6-11</th>\n",
       "      <th>12-17</th>\n",
       "      <th>18-23</th>\n",
       "      <th>2</th>\n",
       "      <th>3</th>\n",
       "      <th>4</th>\n",
       "      <th>5</th>\n",
       "      <th>6</th>\n",
       "      <th>7</th>\n",
       "      <th>8</th>\n",
       "      <th>9</th>\n",
       "      <th>10</th>\n",
       "      <th>11</th>\n",
       "      <th>12</th>\n",
       "      <th>Monday</th>\n",
       "      <th>Saturday</th>\n",
       "      <th>Sunday</th>\n",
       "      <th>Thursday</th>\n",
       "      <th>Tuesday</th>\n",
       "      <th>Wednesday</th>\n",
       "    </tr>\n",
       "  </thead>\n",
       "  <tbody>\n",
       "    <tr>\n",
       "      <th>0</th>\n",
       "      <td>4.97</td>\n",
       "      <td>3495</td>\n",
       "      <td>0</td>\n",
       "      <td>Train</td>\n",
       "      <td>30</td>\n",
       "      <td>78.60</td>\n",
       "      <td>0</td>\n",
       "      <td>0</td>\n",
       "      <td>0</td>\n",
       "      <td>0</td>\n",
       "      <td>0</td>\n",
       "      <td>0</td>\n",
       "      <td>0</td>\n",
       "      <td>1</td>\n",
       "      <td>0</td>\n",
       "      <td>0</td>\n",
       "      <td>0</td>\n",
       "      <td>0</td>\n",
       "      <td>0</td>\n",
       "      <td>0</td>\n",
       "      <td>0</td>\n",
       "      <td>0</td>\n",
       "      <td>1</td>\n",
       "      <td>0</td>\n",
       "      <td>0</td>\n",
       "      <td>0</td>\n",
       "      <td>0</td>\n",
       "      <td>0</td>\n",
       "      <td>0</td>\n",
       "      <td>0</td>\n",
       "      <td>0</td>\n",
       "      <td>0</td>\n",
       "      <td>0</td>\n",
       "      <td>0</td>\n",
       "      <td>0</td>\n",
       "      <td>0</td>\n",
       "      <td>0</td>\n",
       "      <td>0</td>\n",
       "      <td>0</td>\n",
       "      <td>0</td>\n",
       "      <td>0</td>\n",
       "      <td>0</td>\n",
       "      <td>0</td>\n",
       "      <td>1</td>\n",
       "      <td>0</td>\n",
       "    </tr>\n",
       "    <tr>\n",
       "      <th>1</th>\n",
       "      <td>107.23</td>\n",
       "      <td>149</td>\n",
       "      <td>0</td>\n",
       "      <td>Train</td>\n",
       "      <td>40</td>\n",
       "      <td>30.21</td>\n",
       "      <td>0</td>\n",
       "      <td>0</td>\n",
       "      <td>0</td>\n",
       "      <td>1</td>\n",
       "      <td>0</td>\n",
       "      <td>0</td>\n",
       "      <td>0</td>\n",
       "      <td>0</td>\n",
       "      <td>0</td>\n",
       "      <td>0</td>\n",
       "      <td>0</td>\n",
       "      <td>0</td>\n",
       "      <td>0</td>\n",
       "      <td>0</td>\n",
       "      <td>0</td>\n",
       "      <td>0</td>\n",
       "      <td>1</td>\n",
       "      <td>0</td>\n",
       "      <td>0</td>\n",
       "      <td>0</td>\n",
       "      <td>0</td>\n",
       "      <td>0</td>\n",
       "      <td>0</td>\n",
       "      <td>0</td>\n",
       "      <td>0</td>\n",
       "      <td>0</td>\n",
       "      <td>0</td>\n",
       "      <td>0</td>\n",
       "      <td>0</td>\n",
       "      <td>0</td>\n",
       "      <td>0</td>\n",
       "      <td>0</td>\n",
       "      <td>0</td>\n",
       "      <td>0</td>\n",
       "      <td>0</td>\n",
       "      <td>0</td>\n",
       "      <td>0</td>\n",
       "      <td>1</td>\n",
       "      <td>0</td>\n",
       "    </tr>\n",
       "    <tr>\n",
       "      <th>2</th>\n",
       "      <td>179.72</td>\n",
       "      <td>4154</td>\n",
       "      <td>0</td>\n",
       "      <td>Train</td>\n",
       "      <td>56</td>\n",
       "      <td>108.21</td>\n",
       "      <td>0</td>\n",
       "      <td>0</td>\n",
       "      <td>0</td>\n",
       "      <td>0</td>\n",
       "      <td>0</td>\n",
       "      <td>0</td>\n",
       "      <td>0</td>\n",
       "      <td>0</td>\n",
       "      <td>0</td>\n",
       "      <td>0</td>\n",
       "      <td>0</td>\n",
       "      <td>0</td>\n",
       "      <td>0</td>\n",
       "      <td>1</td>\n",
       "      <td>0</td>\n",
       "      <td>0</td>\n",
       "      <td>1</td>\n",
       "      <td>0</td>\n",
       "      <td>0</td>\n",
       "      <td>0</td>\n",
       "      <td>0</td>\n",
       "      <td>0</td>\n",
       "      <td>0</td>\n",
       "      <td>0</td>\n",
       "      <td>0</td>\n",
       "      <td>0</td>\n",
       "      <td>0</td>\n",
       "      <td>0</td>\n",
       "      <td>0</td>\n",
       "      <td>0</td>\n",
       "      <td>0</td>\n",
       "      <td>0</td>\n",
       "      <td>0</td>\n",
       "      <td>0</td>\n",
       "      <td>0</td>\n",
       "      <td>0</td>\n",
       "      <td>0</td>\n",
       "      <td>1</td>\n",
       "      <td>0</td>\n",
       "    </tr>\n",
       "    <tr>\n",
       "      <th>3</th>\n",
       "      <td>45.00</td>\n",
       "      <td>1939</td>\n",
       "      <td>0</td>\n",
       "      <td>Train</td>\n",
       "      <td>51</td>\n",
       "      <td>95.67</td>\n",
       "      <td>0</td>\n",
       "      <td>1</td>\n",
       "      <td>0</td>\n",
       "      <td>0</td>\n",
       "      <td>0</td>\n",
       "      <td>0</td>\n",
       "      <td>0</td>\n",
       "      <td>0</td>\n",
       "      <td>0</td>\n",
       "      <td>0</td>\n",
       "      <td>0</td>\n",
       "      <td>0</td>\n",
       "      <td>0</td>\n",
       "      <td>1</td>\n",
       "      <td>0</td>\n",
       "      <td>0</td>\n",
       "      <td>1</td>\n",
       "      <td>0</td>\n",
       "      <td>0</td>\n",
       "      <td>0</td>\n",
       "      <td>0</td>\n",
       "      <td>0</td>\n",
       "      <td>0</td>\n",
       "      <td>0</td>\n",
       "      <td>0</td>\n",
       "      <td>0</td>\n",
       "      <td>0</td>\n",
       "      <td>0</td>\n",
       "      <td>0</td>\n",
       "      <td>0</td>\n",
       "      <td>0</td>\n",
       "      <td>0</td>\n",
       "      <td>0</td>\n",
       "      <td>0</td>\n",
       "      <td>0</td>\n",
       "      <td>0</td>\n",
       "      <td>0</td>\n",
       "      <td>1</td>\n",
       "      <td>0</td>\n",
       "    </tr>\n",
       "    <tr>\n",
       "      <th>4</th>\n",
       "      <td>41.96</td>\n",
       "      <td>139</td>\n",
       "      <td>0</td>\n",
       "      <td>Train</td>\n",
       "      <td>32</td>\n",
       "      <td>77.56</td>\n",
       "      <td>0</td>\n",
       "      <td>0</td>\n",
       "      <td>0</td>\n",
       "      <td>0</td>\n",
       "      <td>0</td>\n",
       "      <td>0</td>\n",
       "      <td>0</td>\n",
       "      <td>0</td>\n",
       "      <td>1</td>\n",
       "      <td>0</td>\n",
       "      <td>0</td>\n",
       "      <td>0</td>\n",
       "      <td>0</td>\n",
       "      <td>1</td>\n",
       "      <td>0</td>\n",
       "      <td>0</td>\n",
       "      <td>1</td>\n",
       "      <td>0</td>\n",
       "      <td>0</td>\n",
       "      <td>0</td>\n",
       "      <td>0</td>\n",
       "      <td>0</td>\n",
       "      <td>0</td>\n",
       "      <td>0</td>\n",
       "      <td>0</td>\n",
       "      <td>0</td>\n",
       "      <td>0</td>\n",
       "      <td>0</td>\n",
       "      <td>0</td>\n",
       "      <td>0</td>\n",
       "      <td>0</td>\n",
       "      <td>0</td>\n",
       "      <td>0</td>\n",
       "      <td>0</td>\n",
       "      <td>0</td>\n",
       "      <td>0</td>\n",
       "      <td>0</td>\n",
       "      <td>1</td>\n",
       "      <td>0</td>\n",
       "    </tr>\n",
       "  </tbody>\n",
       "</table>\n",
       "</div>"
      ],
      "text/plain": [
       "      amt  city_pop  is_fraud  Label  customer_age  distance  food_dining  \\\n",
       "0    4.97      3495         0  Train            30     78.60            0   \n",
       "1  107.23       149         0  Train            40     30.21            0   \n",
       "2  179.72      4154         0  Train            56    108.21            0   \n",
       "3   45.00      1939         0  Train            51     95.67            0   \n",
       "4   41.96       139         0  Train            32     77.56            0   \n",
       "\n",
       "   gas_transport  grocery_net  grocery_pos  health_fitness  home  kids_pets  \\\n",
       "0              0            0            0               0     0          0   \n",
       "1              0            0            1               0     0          0   \n",
       "2              0            0            0               0     0          0   \n",
       "3              1            0            0               0     0          0   \n",
       "4              0            0            0               0     0          0   \n",
       "\n",
       "   misc_net  misc_pos  personal_care  shopping_net  shopping_pos  travel  \\\n",
       "0         1         0              0             0             0       0   \n",
       "1         0         0              0             0             0       0   \n",
       "2         0         0              0             0             0       0   \n",
       "3         0         0              0             0             0       0   \n",
       "4         0         1              0             0             0       0   \n",
       "\n",
       "   Male  CA  NY  Others  PA  TX  6-11  12-17  18-23  2  3  4  5  6  7  8  9  \\\n",
       "0     0   0   0       1   0   0     0      0      0  0  0  0  0  0  0  0  0   \n",
       "1     0   0   0       1   0   0     0      0      0  0  0  0  0  0  0  0  0   \n",
       "2     1   0   0       1   0   0     0      0      0  0  0  0  0  0  0  0  0   \n",
       "3     1   0   0       1   0   0     0      0      0  0  0  0  0  0  0  0  0   \n",
       "4     1   0   0       1   0   0     0      0      0  0  0  0  0  0  0  0  0   \n",
       "\n",
       "   10  11  12  Monday  Saturday  Sunday  Thursday  Tuesday  Wednesday  \n",
       "0   0   0   0       0         0       0         0        1          0  \n",
       "1   0   0   0       0         0       0         0        1          0  \n",
       "2   0   0   0       0         0       0         0        1          0  \n",
       "3   0   0   0       0         0       0         0        1          0  \n",
       "4   0   0   0       0         0       0         0        1          0  "
      ]
     },
     "execution_count": 81,
     "metadata": {},
     "output_type": "execute_result"
    }
   ],
   "source": [
    "df.head()"
   ]
  },
  {
   "cell_type": "markdown",
   "id": "19cc1544",
   "metadata": {},
   "source": [
    "## Multicollinearity"
   ]
  },
  {
   "cell_type": "code",
   "execution_count": 82,
   "id": "37b15bcf",
   "metadata": {},
   "outputs": [
    {
     "data": {
      "text/plain": [
       "[]"
      ]
     },
     "execution_count": 82,
     "metadata": {},
     "output_type": "execute_result"
    }
   ],
   "source": [
    "# Checking for Continuous variables columns for multicollinearity as value greater than 0.7 is significant for multicollinearity\n",
    "# Create correlation matrix\n",
    "corr_matrix = df.corr().abs()\n",
    "\n",
    "# Select upper triangle of correlation matrix\n",
    "upper = corr_matrix.where(np.triu(np.ones(corr_matrix.shape), k=1).astype(bool))\n",
    "\n",
    "# Find features with correlation greater than 0.6\n",
    "corr_columns = [column for column in upper.columns if any(upper[column] > 0.6)]\n",
    "corr_columns"
   ]
  },
  {
   "cell_type": "code",
   "execution_count": 83,
   "id": "dd09c02b",
   "metadata": {},
   "outputs": [],
   "source": [
    "df.columns = df.columns.astype(str)"
   ]
  },
  {
   "cell_type": "markdown",
   "id": "2c88286a",
   "metadata": {},
   "source": [
    "## Train Test split."
   ]
  },
  {
   "cell_type": "code",
   "execution_count": 84,
   "id": "05c9e54c",
   "metadata": {},
   "outputs": [],
   "source": [
    "# We need to split back the data based on label.\n",
    "train_df = df[df['Label']=='Train']\n",
    "test_df = df[df['Label']=='Test']"
   ]
  },
  {
   "cell_type": "code",
   "execution_count": 85,
   "id": "08237fdc",
   "metadata": {},
   "outputs": [],
   "source": [
    "# Dropping the Label column as its of no use now.\n",
    "train_df.drop('Label', axis =1, inplace = True)\n",
    "test_df.drop('Label', axis =1, inplace = True)"
   ]
  },
  {
   "cell_type": "markdown",
   "id": "30698b32",
   "metadata": {},
   "source": [
    "## Feature Scaling"
   ]
  },
  {
   "cell_type": "code",
   "execution_count": 86,
   "id": "81584761",
   "metadata": {},
   "outputs": [],
   "source": [
    "y_train = train_df['is_fraud']\n",
    "X_train = train_df.drop(['is_fraud'],axis=1)"
   ]
  },
  {
   "cell_type": "code",
   "execution_count": 87,
   "id": "cf67f01a",
   "metadata": {},
   "outputs": [],
   "source": [
    "from sklearn.preprocessing import MinMaxScaler"
   ]
  },
  {
   "cell_type": "code",
   "execution_count": 88,
   "id": "8256035d",
   "metadata": {},
   "outputs": [],
   "source": [
    "scaler = MinMaxScaler()\n",
    "\n",
    "X_train[['amt','city_pop','customer_age','distance']] = scaler.fit_transform(X_train[['amt','city_pop','customer_age','distance']])"
   ]
  },
  {
   "cell_type": "code",
   "execution_count": 89,
   "id": "05b359e8",
   "metadata": {},
   "outputs": [],
   "source": [
    "# Now as the scaled data is a numpy array\n",
    "# We will have to convert it into a dataframe again"
   ]
  },
  {
   "cell_type": "code",
   "execution_count": 90,
   "id": "4f414737",
   "metadata": {},
   "outputs": [
    {
     "data": {
      "text/html": [
       "<div>\n",
       "<style scoped>\n",
       "    .dataframe tbody tr th:only-of-type {\n",
       "        vertical-align: middle;\n",
       "    }\n",
       "\n",
       "    .dataframe tbody tr th {\n",
       "        vertical-align: top;\n",
       "    }\n",
       "\n",
       "    .dataframe thead th {\n",
       "        text-align: right;\n",
       "    }\n",
       "</style>\n",
       "<table border=\"1\" class=\"dataframe\">\n",
       "  <thead>\n",
       "    <tr style=\"text-align: right;\">\n",
       "      <th></th>\n",
       "      <th>amt</th>\n",
       "      <th>city_pop</th>\n",
       "      <th>customer_age</th>\n",
       "      <th>distance</th>\n",
       "      <th>food_dining</th>\n",
       "      <th>gas_transport</th>\n",
       "      <th>grocery_net</th>\n",
       "      <th>grocery_pos</th>\n",
       "      <th>health_fitness</th>\n",
       "      <th>home</th>\n",
       "      <th>kids_pets</th>\n",
       "      <th>misc_net</th>\n",
       "      <th>misc_pos</th>\n",
       "      <th>personal_care</th>\n",
       "      <th>shopping_net</th>\n",
       "      <th>shopping_pos</th>\n",
       "      <th>travel</th>\n",
       "      <th>Male</th>\n",
       "      <th>CA</th>\n",
       "      <th>NY</th>\n",
       "      <th>Others</th>\n",
       "      <th>PA</th>\n",
       "      <th>TX</th>\n",
       "      <th>6-11</th>\n",
       "      <th>12-17</th>\n",
       "      <th>18-23</th>\n",
       "      <th>2</th>\n",
       "      <th>3</th>\n",
       "      <th>4</th>\n",
       "      <th>5</th>\n",
       "      <th>6</th>\n",
       "      <th>7</th>\n",
       "      <th>8</th>\n",
       "      <th>9</th>\n",
       "      <th>10</th>\n",
       "      <th>11</th>\n",
       "      <th>12</th>\n",
       "      <th>Monday</th>\n",
       "      <th>Saturday</th>\n",
       "      <th>Sunday</th>\n",
       "      <th>Thursday</th>\n",
       "      <th>Tuesday</th>\n",
       "      <th>Wednesday</th>\n",
       "    </tr>\n",
       "  </thead>\n",
       "  <tbody>\n",
       "    <tr>\n",
       "      <th>count</th>\n",
       "      <td>1.296675e+06</td>\n",
       "      <td>1.296675e+06</td>\n",
       "      <td>1.296675e+06</td>\n",
       "      <td>1.296675e+06</td>\n",
       "      <td>1.296675e+06</td>\n",
       "      <td>1.296675e+06</td>\n",
       "      <td>1.296675e+06</td>\n",
       "      <td>1.296675e+06</td>\n",
       "      <td>1.296675e+06</td>\n",
       "      <td>1.296675e+06</td>\n",
       "      <td>1.296675e+06</td>\n",
       "      <td>1.296675e+06</td>\n",
       "      <td>1.296675e+06</td>\n",
       "      <td>1.296675e+06</td>\n",
       "      <td>1.296675e+06</td>\n",
       "      <td>1.296675e+06</td>\n",
       "      <td>1.296675e+06</td>\n",
       "      <td>1.296675e+06</td>\n",
       "      <td>1.296675e+06</td>\n",
       "      <td>1.296675e+06</td>\n",
       "      <td>1.296675e+06</td>\n",
       "      <td>1.296675e+06</td>\n",
       "      <td>1.296675e+06</td>\n",
       "      <td>1.296675e+06</td>\n",
       "      <td>1.296675e+06</td>\n",
       "      <td>1.296675e+06</td>\n",
       "      <td>1.296675e+06</td>\n",
       "      <td>1.296675e+06</td>\n",
       "      <td>1.296675e+06</td>\n",
       "      <td>1.296675e+06</td>\n",
       "      <td>1.296675e+06</td>\n",
       "      <td>1.296675e+06</td>\n",
       "      <td>1.296675e+06</td>\n",
       "      <td>1.296675e+06</td>\n",
       "      <td>1.296675e+06</td>\n",
       "      <td>1.296675e+06</td>\n",
       "      <td>1.296675e+06</td>\n",
       "      <td>1.296675e+06</td>\n",
       "      <td>1.296675e+06</td>\n",
       "      <td>1.296675e+06</td>\n",
       "      <td>1.296675e+06</td>\n",
       "      <td>1.296675e+06</td>\n",
       "      <td>1.296675e+06</td>\n",
       "    </tr>\n",
       "    <tr>\n",
       "      <th>mean</th>\n",
       "      <td>3.085432e-01</td>\n",
       "      <td>2.752525e-01</td>\n",
       "      <td>3.514489e-01</td>\n",
       "      <td>5.002943e-01</td>\n",
       "      <td>7.053502e-02</td>\n",
       "      <td>1.015359e-01</td>\n",
       "      <td>3.505273e-02</td>\n",
       "      <td>9.535003e-02</td>\n",
       "      <td>6.623017e-02</td>\n",
       "      <td>9.494669e-02</td>\n",
       "      <td>8.717296e-02</td>\n",
       "      <td>4.880714e-02</td>\n",
       "      <td>6.143020e-02</td>\n",
       "      <td>6.999287e-02</td>\n",
       "      <td>7.522548e-02</td>\n",
       "      <td>8.997783e-02</td>\n",
       "      <td>3.123913e-02</td>\n",
       "      <td>4.525513e-01</td>\n",
       "      <td>4.346502e-02</td>\n",
       "      <td>6.439624e-02</td>\n",
       "      <td>7.215463e-01</td>\n",
       "      <td>6.157827e-02</td>\n",
       "      <td>7.316868e-02</td>\n",
       "      <td>1.955355e-01</td>\n",
       "      <td>3.023294e-01</td>\n",
       "      <td>3.056093e-01</td>\n",
       "      <td>7.531340e-02</td>\n",
       "      <td>1.108905e-01</td>\n",
       "      <td>1.040893e-01</td>\n",
       "      <td>1.132705e-01</td>\n",
       "      <td>1.109075e-01</td>\n",
       "      <td>6.678312e-02</td>\n",
       "      <td>6.737155e-02</td>\n",
       "      <td>5.448705e-02</td>\n",
       "      <td>5.302639e-02</td>\n",
       "      <td>5.430891e-02</td>\n",
       "      <td>1.087859e-01</td>\n",
       "      <td>1.961031e-01</td>\n",
       "      <td>1.549787e-01</td>\n",
       "      <td>1.932473e-01</td>\n",
       "      <td>1.135867e-01</td>\n",
       "      <td>1.235676e-01</td>\n",
       "      <td>1.010839e-01</td>\n",
       "    </tr>\n",
       "    <tr>\n",
       "      <th>std</th>\n",
       "      <td>2.888147e-01</td>\n",
       "      <td>3.883118e-01</td>\n",
       "      <td>2.455510e-01</td>\n",
       "      <td>1.914331e-01</td>\n",
       "      <td>2.560466e-01</td>\n",
       "      <td>3.020371e-01</td>\n",
       "      <td>1.839132e-01</td>\n",
       "      <td>2.936979e-01</td>\n",
       "      <td>2.486841e-01</td>\n",
       "      <td>2.931414e-01</td>\n",
       "      <td>2.820885e-01</td>\n",
       "      <td>2.154647e-01</td>\n",
       "      <td>2.401178e-01</td>\n",
       "      <td>2.551351e-01</td>\n",
       "      <td>2.637549e-01</td>\n",
       "      <td>2.861501e-01</td>\n",
       "      <td>1.739634e-01</td>\n",
       "      <td>4.977437e-01</td>\n",
       "      <td>2.039015e-01</td>\n",
       "      <td>2.454576e-01</td>\n",
       "      <td>4.482381e-01</td>\n",
       "      <td>2.403881e-01</td>\n",
       "      <td>2.604133e-01</td>\n",
       "      <td>3.966125e-01</td>\n",
       "      <td>4.592674e-01</td>\n",
       "      <td>4.606652e-01</td>\n",
       "      <td>2.638965e-01</td>\n",
       "      <td>3.139967e-01</td>\n",
       "      <td>3.053765e-01</td>\n",
       "      <td>3.169233e-01</td>\n",
       "      <td>3.140177e-01</td>\n",
       "      <td>2.496461e-01</td>\n",
       "      <td>2.506645e-01</td>\n",
       "      <td>2.269763e-01</td>\n",
       "      <td>2.240862e-01</td>\n",
       "      <td>2.266263e-01</td>\n",
       "      <td>3.113706e-01</td>\n",
       "      <td>3.970476e-01</td>\n",
       "      <td>3.618845e-01</td>\n",
       "      <td>3.948454e-01</td>\n",
       "      <td>3.173087e-01</td>\n",
       "      <td>3.290877e-01</td>\n",
       "      <td>3.014399e-01</td>\n",
       "    </tr>\n",
       "    <tr>\n",
       "      <th>min</th>\n",
       "      <td>0.000000e+00</td>\n",
       "      <td>0.000000e+00</td>\n",
       "      <td>0.000000e+00</td>\n",
       "      <td>0.000000e+00</td>\n",
       "      <td>0.000000e+00</td>\n",
       "      <td>0.000000e+00</td>\n",
       "      <td>0.000000e+00</td>\n",
       "      <td>0.000000e+00</td>\n",
       "      <td>0.000000e+00</td>\n",
       "      <td>0.000000e+00</td>\n",
       "      <td>0.000000e+00</td>\n",
       "      <td>0.000000e+00</td>\n",
       "      <td>0.000000e+00</td>\n",
       "      <td>0.000000e+00</td>\n",
       "      <td>0.000000e+00</td>\n",
       "      <td>0.000000e+00</td>\n",
       "      <td>0.000000e+00</td>\n",
       "      <td>0.000000e+00</td>\n",
       "      <td>0.000000e+00</td>\n",
       "      <td>0.000000e+00</td>\n",
       "      <td>0.000000e+00</td>\n",
       "      <td>0.000000e+00</td>\n",
       "      <td>0.000000e+00</td>\n",
       "      <td>0.000000e+00</td>\n",
       "      <td>0.000000e+00</td>\n",
       "      <td>0.000000e+00</td>\n",
       "      <td>0.000000e+00</td>\n",
       "      <td>0.000000e+00</td>\n",
       "      <td>0.000000e+00</td>\n",
       "      <td>0.000000e+00</td>\n",
       "      <td>0.000000e+00</td>\n",
       "      <td>0.000000e+00</td>\n",
       "      <td>0.000000e+00</td>\n",
       "      <td>0.000000e+00</td>\n",
       "      <td>0.000000e+00</td>\n",
       "      <td>0.000000e+00</td>\n",
       "      <td>0.000000e+00</td>\n",
       "      <td>0.000000e+00</td>\n",
       "      <td>0.000000e+00</td>\n",
       "      <td>0.000000e+00</td>\n",
       "      <td>0.000000e+00</td>\n",
       "      <td>0.000000e+00</td>\n",
       "      <td>0.000000e+00</td>\n",
       "    </tr>\n",
       "    <tr>\n",
       "      <th>25%</th>\n",
       "      <td>4.067013e-02</td>\n",
       "      <td>1.282106e-02</td>\n",
       "      <td>1.571429e-01</td>\n",
       "      <td>3.636752e-01</td>\n",
       "      <td>0.000000e+00</td>\n",
       "      <td>0.000000e+00</td>\n",
       "      <td>0.000000e+00</td>\n",
       "      <td>0.000000e+00</td>\n",
       "      <td>0.000000e+00</td>\n",
       "      <td>0.000000e+00</td>\n",
       "      <td>0.000000e+00</td>\n",
       "      <td>0.000000e+00</td>\n",
       "      <td>0.000000e+00</td>\n",
       "      <td>0.000000e+00</td>\n",
       "      <td>0.000000e+00</td>\n",
       "      <td>0.000000e+00</td>\n",
       "      <td>0.000000e+00</td>\n",
       "      <td>0.000000e+00</td>\n",
       "      <td>0.000000e+00</td>\n",
       "      <td>0.000000e+00</td>\n",
       "      <td>0.000000e+00</td>\n",
       "      <td>0.000000e+00</td>\n",
       "      <td>0.000000e+00</td>\n",
       "      <td>0.000000e+00</td>\n",
       "      <td>0.000000e+00</td>\n",
       "      <td>0.000000e+00</td>\n",
       "      <td>0.000000e+00</td>\n",
       "      <td>0.000000e+00</td>\n",
       "      <td>0.000000e+00</td>\n",
       "      <td>0.000000e+00</td>\n",
       "      <td>0.000000e+00</td>\n",
       "      <td>0.000000e+00</td>\n",
       "      <td>0.000000e+00</td>\n",
       "      <td>0.000000e+00</td>\n",
       "      <td>0.000000e+00</td>\n",
       "      <td>0.000000e+00</td>\n",
       "      <td>0.000000e+00</td>\n",
       "      <td>0.000000e+00</td>\n",
       "      <td>0.000000e+00</td>\n",
       "      <td>0.000000e+00</td>\n",
       "      <td>0.000000e+00</td>\n",
       "      <td>0.000000e+00</td>\n",
       "      <td>0.000000e+00</td>\n",
       "    </tr>\n",
       "    <tr>\n",
       "      <th>50%</th>\n",
       "      <td>2.542870e-01</td>\n",
       "      <td>4.918276e-02</td>\n",
       "      <td>3.142857e-01</td>\n",
       "      <td>5.142012e-01</td>\n",
       "      <td>0.000000e+00</td>\n",
       "      <td>0.000000e+00</td>\n",
       "      <td>0.000000e+00</td>\n",
       "      <td>0.000000e+00</td>\n",
       "      <td>0.000000e+00</td>\n",
       "      <td>0.000000e+00</td>\n",
       "      <td>0.000000e+00</td>\n",
       "      <td>0.000000e+00</td>\n",
       "      <td>0.000000e+00</td>\n",
       "      <td>0.000000e+00</td>\n",
       "      <td>0.000000e+00</td>\n",
       "      <td>0.000000e+00</td>\n",
       "      <td>0.000000e+00</td>\n",
       "      <td>0.000000e+00</td>\n",
       "      <td>0.000000e+00</td>\n",
       "      <td>0.000000e+00</td>\n",
       "      <td>1.000000e+00</td>\n",
       "      <td>0.000000e+00</td>\n",
       "      <td>0.000000e+00</td>\n",
       "      <td>0.000000e+00</td>\n",
       "      <td>0.000000e+00</td>\n",
       "      <td>0.000000e+00</td>\n",
       "      <td>0.000000e+00</td>\n",
       "      <td>0.000000e+00</td>\n",
       "      <td>0.000000e+00</td>\n",
       "      <td>0.000000e+00</td>\n",
       "      <td>0.000000e+00</td>\n",
       "      <td>0.000000e+00</td>\n",
       "      <td>0.000000e+00</td>\n",
       "      <td>0.000000e+00</td>\n",
       "      <td>0.000000e+00</td>\n",
       "      <td>0.000000e+00</td>\n",
       "      <td>0.000000e+00</td>\n",
       "      <td>0.000000e+00</td>\n",
       "      <td>0.000000e+00</td>\n",
       "      <td>0.000000e+00</td>\n",
       "      <td>0.000000e+00</td>\n",
       "      <td>0.000000e+00</td>\n",
       "      <td>0.000000e+00</td>\n",
       "    </tr>\n",
       "    <tr>\n",
       "      <th>75%</th>\n",
       "      <td>4.552121e-01</td>\n",
       "      <td>4.285502e-01</td>\n",
       "      <td>5.142857e-01</td>\n",
       "      <td>6.474688e-01</td>\n",
       "      <td>0.000000e+00</td>\n",
       "      <td>0.000000e+00</td>\n",
       "      <td>0.000000e+00</td>\n",
       "      <td>0.000000e+00</td>\n",
       "      <td>0.000000e+00</td>\n",
       "      <td>0.000000e+00</td>\n",
       "      <td>0.000000e+00</td>\n",
       "      <td>0.000000e+00</td>\n",
       "      <td>0.000000e+00</td>\n",
       "      <td>0.000000e+00</td>\n",
       "      <td>0.000000e+00</td>\n",
       "      <td>0.000000e+00</td>\n",
       "      <td>0.000000e+00</td>\n",
       "      <td>1.000000e+00</td>\n",
       "      <td>0.000000e+00</td>\n",
       "      <td>0.000000e+00</td>\n",
       "      <td>1.000000e+00</td>\n",
       "      <td>0.000000e+00</td>\n",
       "      <td>0.000000e+00</td>\n",
       "      <td>0.000000e+00</td>\n",
       "      <td>1.000000e+00</td>\n",
       "      <td>1.000000e+00</td>\n",
       "      <td>0.000000e+00</td>\n",
       "      <td>0.000000e+00</td>\n",
       "      <td>0.000000e+00</td>\n",
       "      <td>0.000000e+00</td>\n",
       "      <td>0.000000e+00</td>\n",
       "      <td>0.000000e+00</td>\n",
       "      <td>0.000000e+00</td>\n",
       "      <td>0.000000e+00</td>\n",
       "      <td>0.000000e+00</td>\n",
       "      <td>0.000000e+00</td>\n",
       "      <td>0.000000e+00</td>\n",
       "      <td>0.000000e+00</td>\n",
       "      <td>0.000000e+00</td>\n",
       "      <td>0.000000e+00</td>\n",
       "      <td>0.000000e+00</td>\n",
       "      <td>0.000000e+00</td>\n",
       "      <td>0.000000e+00</td>\n",
       "    </tr>\n",
       "    <tr>\n",
       "      <th>max</th>\n",
       "      <td>1.000000e+00</td>\n",
       "      <td>1.000000e+00</td>\n",
       "      <td>1.000000e+00</td>\n",
       "      <td>1.000000e+00</td>\n",
       "      <td>1.000000e+00</td>\n",
       "      <td>1.000000e+00</td>\n",
       "      <td>1.000000e+00</td>\n",
       "      <td>1.000000e+00</td>\n",
       "      <td>1.000000e+00</td>\n",
       "      <td>1.000000e+00</td>\n",
       "      <td>1.000000e+00</td>\n",
       "      <td>1.000000e+00</td>\n",
       "      <td>1.000000e+00</td>\n",
       "      <td>1.000000e+00</td>\n",
       "      <td>1.000000e+00</td>\n",
       "      <td>1.000000e+00</td>\n",
       "      <td>1.000000e+00</td>\n",
       "      <td>1.000000e+00</td>\n",
       "      <td>1.000000e+00</td>\n",
       "      <td>1.000000e+00</td>\n",
       "      <td>1.000000e+00</td>\n",
       "      <td>1.000000e+00</td>\n",
       "      <td>1.000000e+00</td>\n",
       "      <td>1.000000e+00</td>\n",
       "      <td>1.000000e+00</td>\n",
       "      <td>1.000000e+00</td>\n",
       "      <td>1.000000e+00</td>\n",
       "      <td>1.000000e+00</td>\n",
       "      <td>1.000000e+00</td>\n",
       "      <td>1.000000e+00</td>\n",
       "      <td>1.000000e+00</td>\n",
       "      <td>1.000000e+00</td>\n",
       "      <td>1.000000e+00</td>\n",
       "      <td>1.000000e+00</td>\n",
       "      <td>1.000000e+00</td>\n",
       "      <td>1.000000e+00</td>\n",
       "      <td>1.000000e+00</td>\n",
       "      <td>1.000000e+00</td>\n",
       "      <td>1.000000e+00</td>\n",
       "      <td>1.000000e+00</td>\n",
       "      <td>1.000000e+00</td>\n",
       "      <td>1.000000e+00</td>\n",
       "      <td>1.000000e+00</td>\n",
       "    </tr>\n",
       "  </tbody>\n",
       "</table>\n",
       "</div>"
      ],
      "text/plain": [
       "                amt      city_pop  customer_age      distance   food_dining  \\\n",
       "count  1.296675e+06  1.296675e+06  1.296675e+06  1.296675e+06  1.296675e+06   \n",
       "mean   3.085432e-01  2.752525e-01  3.514489e-01  5.002943e-01  7.053502e-02   \n",
       "std    2.888147e-01  3.883118e-01  2.455510e-01  1.914331e-01  2.560466e-01   \n",
       "min    0.000000e+00  0.000000e+00  0.000000e+00  0.000000e+00  0.000000e+00   \n",
       "25%    4.067013e-02  1.282106e-02  1.571429e-01  3.636752e-01  0.000000e+00   \n",
       "50%    2.542870e-01  4.918276e-02  3.142857e-01  5.142012e-01  0.000000e+00   \n",
       "75%    4.552121e-01  4.285502e-01  5.142857e-01  6.474688e-01  0.000000e+00   \n",
       "max    1.000000e+00  1.000000e+00  1.000000e+00  1.000000e+00  1.000000e+00   \n",
       "\n",
       "       gas_transport   grocery_net   grocery_pos  health_fitness  \\\n",
       "count   1.296675e+06  1.296675e+06  1.296675e+06    1.296675e+06   \n",
       "mean    1.015359e-01  3.505273e-02  9.535003e-02    6.623017e-02   \n",
       "std     3.020371e-01  1.839132e-01  2.936979e-01    2.486841e-01   \n",
       "min     0.000000e+00  0.000000e+00  0.000000e+00    0.000000e+00   \n",
       "25%     0.000000e+00  0.000000e+00  0.000000e+00    0.000000e+00   \n",
       "50%     0.000000e+00  0.000000e+00  0.000000e+00    0.000000e+00   \n",
       "75%     0.000000e+00  0.000000e+00  0.000000e+00    0.000000e+00   \n",
       "max     1.000000e+00  1.000000e+00  1.000000e+00    1.000000e+00   \n",
       "\n",
       "               home     kids_pets      misc_net      misc_pos  personal_care  \\\n",
       "count  1.296675e+06  1.296675e+06  1.296675e+06  1.296675e+06   1.296675e+06   \n",
       "mean   9.494669e-02  8.717296e-02  4.880714e-02  6.143020e-02   6.999287e-02   \n",
       "std    2.931414e-01  2.820885e-01  2.154647e-01  2.401178e-01   2.551351e-01   \n",
       "min    0.000000e+00  0.000000e+00  0.000000e+00  0.000000e+00   0.000000e+00   \n",
       "25%    0.000000e+00  0.000000e+00  0.000000e+00  0.000000e+00   0.000000e+00   \n",
       "50%    0.000000e+00  0.000000e+00  0.000000e+00  0.000000e+00   0.000000e+00   \n",
       "75%    0.000000e+00  0.000000e+00  0.000000e+00  0.000000e+00   0.000000e+00   \n",
       "max    1.000000e+00  1.000000e+00  1.000000e+00  1.000000e+00   1.000000e+00   \n",
       "\n",
       "       shopping_net  shopping_pos        travel          Male            CA  \\\n",
       "count  1.296675e+06  1.296675e+06  1.296675e+06  1.296675e+06  1.296675e+06   \n",
       "mean   7.522548e-02  8.997783e-02  3.123913e-02  4.525513e-01  4.346502e-02   \n",
       "std    2.637549e-01  2.861501e-01  1.739634e-01  4.977437e-01  2.039015e-01   \n",
       "min    0.000000e+00  0.000000e+00  0.000000e+00  0.000000e+00  0.000000e+00   \n",
       "25%    0.000000e+00  0.000000e+00  0.000000e+00  0.000000e+00  0.000000e+00   \n",
       "50%    0.000000e+00  0.000000e+00  0.000000e+00  0.000000e+00  0.000000e+00   \n",
       "75%    0.000000e+00  0.000000e+00  0.000000e+00  1.000000e+00  0.000000e+00   \n",
       "max    1.000000e+00  1.000000e+00  1.000000e+00  1.000000e+00  1.000000e+00   \n",
       "\n",
       "                 NY        Others            PA            TX          6-11  \\\n",
       "count  1.296675e+06  1.296675e+06  1.296675e+06  1.296675e+06  1.296675e+06   \n",
       "mean   6.439624e-02  7.215463e-01  6.157827e-02  7.316868e-02  1.955355e-01   \n",
       "std    2.454576e-01  4.482381e-01  2.403881e-01  2.604133e-01  3.966125e-01   \n",
       "min    0.000000e+00  0.000000e+00  0.000000e+00  0.000000e+00  0.000000e+00   \n",
       "25%    0.000000e+00  0.000000e+00  0.000000e+00  0.000000e+00  0.000000e+00   \n",
       "50%    0.000000e+00  1.000000e+00  0.000000e+00  0.000000e+00  0.000000e+00   \n",
       "75%    0.000000e+00  1.000000e+00  0.000000e+00  0.000000e+00  0.000000e+00   \n",
       "max    1.000000e+00  1.000000e+00  1.000000e+00  1.000000e+00  1.000000e+00   \n",
       "\n",
       "              12-17         18-23             2             3             4  \\\n",
       "count  1.296675e+06  1.296675e+06  1.296675e+06  1.296675e+06  1.296675e+06   \n",
       "mean   3.023294e-01  3.056093e-01  7.531340e-02  1.108905e-01  1.040893e-01   \n",
       "std    4.592674e-01  4.606652e-01  2.638965e-01  3.139967e-01  3.053765e-01   \n",
       "min    0.000000e+00  0.000000e+00  0.000000e+00  0.000000e+00  0.000000e+00   \n",
       "25%    0.000000e+00  0.000000e+00  0.000000e+00  0.000000e+00  0.000000e+00   \n",
       "50%    0.000000e+00  0.000000e+00  0.000000e+00  0.000000e+00  0.000000e+00   \n",
       "75%    1.000000e+00  1.000000e+00  0.000000e+00  0.000000e+00  0.000000e+00   \n",
       "max    1.000000e+00  1.000000e+00  1.000000e+00  1.000000e+00  1.000000e+00   \n",
       "\n",
       "                  5             6             7             8             9  \\\n",
       "count  1.296675e+06  1.296675e+06  1.296675e+06  1.296675e+06  1.296675e+06   \n",
       "mean   1.132705e-01  1.109075e-01  6.678312e-02  6.737155e-02  5.448705e-02   \n",
       "std    3.169233e-01  3.140177e-01  2.496461e-01  2.506645e-01  2.269763e-01   \n",
       "min    0.000000e+00  0.000000e+00  0.000000e+00  0.000000e+00  0.000000e+00   \n",
       "25%    0.000000e+00  0.000000e+00  0.000000e+00  0.000000e+00  0.000000e+00   \n",
       "50%    0.000000e+00  0.000000e+00  0.000000e+00  0.000000e+00  0.000000e+00   \n",
       "75%    0.000000e+00  0.000000e+00  0.000000e+00  0.000000e+00  0.000000e+00   \n",
       "max    1.000000e+00  1.000000e+00  1.000000e+00  1.000000e+00  1.000000e+00   \n",
       "\n",
       "                 10            11            12        Monday      Saturday  \\\n",
       "count  1.296675e+06  1.296675e+06  1.296675e+06  1.296675e+06  1.296675e+06   \n",
       "mean   5.302639e-02  5.430891e-02  1.087859e-01  1.961031e-01  1.549787e-01   \n",
       "std    2.240862e-01  2.266263e-01  3.113706e-01  3.970476e-01  3.618845e-01   \n",
       "min    0.000000e+00  0.000000e+00  0.000000e+00  0.000000e+00  0.000000e+00   \n",
       "25%    0.000000e+00  0.000000e+00  0.000000e+00  0.000000e+00  0.000000e+00   \n",
       "50%    0.000000e+00  0.000000e+00  0.000000e+00  0.000000e+00  0.000000e+00   \n",
       "75%    0.000000e+00  0.000000e+00  0.000000e+00  0.000000e+00  0.000000e+00   \n",
       "max    1.000000e+00  1.000000e+00  1.000000e+00  1.000000e+00  1.000000e+00   \n",
       "\n",
       "             Sunday      Thursday       Tuesday     Wednesday  \n",
       "count  1.296675e+06  1.296675e+06  1.296675e+06  1.296675e+06  \n",
       "mean   1.932473e-01  1.135867e-01  1.235676e-01  1.010839e-01  \n",
       "std    3.948454e-01  3.173087e-01  3.290877e-01  3.014399e-01  \n",
       "min    0.000000e+00  0.000000e+00  0.000000e+00  0.000000e+00  \n",
       "25%    0.000000e+00  0.000000e+00  0.000000e+00  0.000000e+00  \n",
       "50%    0.000000e+00  0.000000e+00  0.000000e+00  0.000000e+00  \n",
       "75%    0.000000e+00  0.000000e+00  0.000000e+00  0.000000e+00  \n",
       "max    1.000000e+00  1.000000e+00  1.000000e+00  1.000000e+00  "
      ]
     },
     "execution_count": 90,
     "metadata": {},
     "output_type": "execute_result"
    }
   ],
   "source": [
    "X_train.describe()"
   ]
  },
  {
   "cell_type": "code",
   "execution_count": 91,
   "id": "17cf93b7",
   "metadata": {},
   "outputs": [
    {
     "data": {
      "image/png": "[encoded data removed]",
      "text/plain": [
       "<Figure size 2500x1200 with 2 Axes>"
      ]
     },
     "metadata": {},
     "output_type": "display_data"
    }
   ],
   "source": [
    "# Let's see the correlation matrix \n",
    "plt.figure(figsize = (25,12))        # Size of the figure\n",
    "sns.heatmap(X_train.corr())\n",
    "plt.show()"
   ]
  },
  {
   "cell_type": "markdown",
   "id": "9dd14fed",
   "metadata": {},
   "source": [
    "## Handling Class Imbalance"
   ]
  },
  {
   "cell_type": "markdown",
   "id": "e36405bf",
   "metadata": {},
   "source": [
    "- As we know that target label is still highly imbalanced approx 99.5 % : 0.5 %\n",
    "- Challenges related to imbalanced dataset are Biased predictions,Misleading accuracy.\n",
    "- We will try various oversampling techniques for our class imbalance on different models:\n",
    "    1. Random over sampling\n",
    "    2. SMOTE\n",
    "    3. ADASYN"
   ]
  },
  {
   "cell_type": "markdown",
   "id": "d5f7f2fd",
   "metadata": {},
   "source": [
    "## Logistic Regression"
   ]
  },
  {
   "cell_type": "code",
   "execution_count": 92,
   "id": "abf22033",
   "metadata": {},
   "outputs": [],
   "source": [
    "from collections import Counter\n",
    "from sklearn.linear_model import LogisticRegression\n",
    "from sklearn.metrics import precision_score, recall_score, confusion_matrix, classification_report, accuracy_score, f1_score"
   ]
  },
  {
   "cell_type": "code",
   "execution_count": 93,
   "id": "731de4c0",
   "metadata": {},
   "outputs": [],
   "source": [
    "# As we need to predict on test data as well we need to first divide the test data into X_test and y_test\n",
    "y_test = test_df['is_fraud']\n",
    "X_test = test_df.drop(['is_fraud'],axis=1)"
   ]
  },
  {
   "cell_type": "code",
   "execution_count": 94,
   "id": "cf0c3bef",
   "metadata": {},
   "outputs": [],
   "source": [
    "# Scaling the test data as well\n",
    "X_test[['amt','city_pop','customer_age','distance']] = scaler.transform(X_test[['amt','city_pop','customer_age','distance']])"
   ]
  },
  {
   "cell_type": "markdown",
   "id": "267d7823",
   "metadata": {},
   "source": [
    "> ### 1. Base Model"
   ]
  },
  {
   "cell_type": "code",
   "execution_count": 95,
   "id": "fe4bac71",
   "metadata": {},
   "outputs": [
    {
     "data": {
      "text/plain": [
       "LogisticRegression()"
      ]
     },
     "execution_count": 95,
     "metadata": {},
     "output_type": "execute_result"
    }
   ],
   "source": [
    "# Logistic Regression\n",
    "lreg = LogisticRegression()\n",
    "lreg.fit(X_train, y_train)"
   ]
  },
  {
   "cell_type": "code",
   "execution_count": 96,
   "id": "3890745b",
   "metadata": {},
   "outputs": [],
   "source": [
    "y_pred = lreg.predict(X_test)"
   ]
  },
  {
   "cell_type": "code",
   "execution_count": 97,
   "id": "7fc4c1ef",
   "metadata": {},
   "outputs": [
    {
     "name": "stdout",
     "output_type": "stream",
     "text": [
      "Accuracy:  0.9963308794552642\n",
      "F1 score:  0.0941803642825411\n",
      "Recall:  0.04941724941724942\n",
      "Precision:  1.0\n",
      "\n",
      " clasification report:\n",
      "               precision    recall  f1-score   support\n",
      "\n",
      "           0       1.00      1.00      1.00    553574\n",
      "           1       1.00      0.05      0.09      2145\n",
      "\n",
      "    accuracy                           1.00    555719\n",
      "   macro avg       1.00      0.52      0.55    555719\n",
      "weighted avg       1.00      1.00      0.99    555719\n",
      "\n",
      "\n",
      " confussion matrix:\n",
      " [[553574      0]\n",
      " [  2039    106]]\n"
     ]
    }
   ],
   "source": [
    "print ('Accuracy: ', accuracy_score(y_test, y_pred))\n",
    "print ('F1 score: ', f1_score(y_test, y_pred))\n",
    "print ('Recall: ', recall_score(y_test, y_pred))\n",
    "print ('Precision: ', precision_score(y_test, y_pred))\n",
    "print ('\\n clasification report:\\n', classification_report(y_test,y_pred))\n",
    "print ('\\n confussion matrix:\\n',confusion_matrix(y_test, y_pred))"
   ]
  },
  {
   "cell_type": "markdown",
   "id": "87f5a073",
   "metadata": {},
   "source": [
    "> ### 2. Random Oversampling"
   ]
  },
  {
   "cell_type": "code",
   "execution_count": 98,
   "id": "7a6f8913",
   "metadata": {},
   "outputs": [
    {
     "data": {
      "text/plain": [
       "2578338"
      ]
     },
     "execution_count": 98,
     "metadata": {},
     "output_type": "execute_result"
    }
   ],
   "source": [
    "# Random OverSampling\n",
    "from imblearn.over_sampling import RandomOverSampler\n",
    "over_sample = RandomOverSampler(sampling_strategy = 1)\n",
    "X_resampled_os, y_resampled_os = over_sample.fit_resample(X_train, y_train)\n",
    "len(X_resampled_os)"
   ]
  },
  {
   "cell_type": "code",
   "execution_count": 99,
   "id": "55417955",
   "metadata": {},
   "outputs": [
    {
     "name": "stdout",
     "output_type": "stream",
     "text": [
      "[(0, 1289169), (1, 1289169)]\n"
     ]
    }
   ],
   "source": [
    "print(sorted(Counter(y_resampled_os).items()))"
   ]
  },
  {
   "cell_type": "code",
   "execution_count": 100,
   "id": "a6602048",
   "metadata": {},
   "outputs": [],
   "source": [
    "lreg_os = LogisticRegression()\n",
    "lreg_os.fit(X_resampled_os, y_resampled_os)\n",
    "\n",
    "y_pred_os = lreg_os.predict(X_test)"
   ]
  },
  {
   "cell_type": "code",
   "execution_count": 101,
   "id": "a11b9b5b",
   "metadata": {},
   "outputs": [
    {
     "data": {
      "text/plain": [
       "array([0, 0, 0, ..., 1, 0, 0], dtype=int64)"
      ]
     },
     "execution_count": 101,
     "metadata": {},
     "output_type": "execute_result"
    }
   ],
   "source": [
    "y_pred_os"
   ]
  },
  {
   "cell_type": "code",
   "execution_count": 102,
   "id": "baea98dd",
   "metadata": {},
   "outputs": [
    {
     "name": "stdout",
     "output_type": "stream",
     "text": [
      "Accuracy:  0.8420316742814264\n",
      "F1 score:  0.03495811621924675\n",
      "Recall:  0.7412587412587412\n",
      "Precision:  0.017901172020130373\n",
      "\n",
      " clasification report:\n",
      "               precision    recall  f1-score   support\n",
      "\n",
      "           0       1.00      0.84      0.91    553574\n",
      "           1       0.02      0.74      0.03      2145\n",
      "\n",
      "    accuracy                           0.84    555719\n",
      "   macro avg       0.51      0.79      0.47    555719\n",
      "weighted avg       1.00      0.84      0.91    555719\n",
      "\n",
      "\n",
      " confussion matrix:\n",
      " [[466343  87231]\n",
      " [   555   1590]]\n"
     ]
    }
   ],
   "source": [
    "# Lets check the score for oversampling technique\n",
    "print ('Accuracy: ', accuracy_score(y_test, y_pred_os))\n",
    "print ('F1 score: ', f1_score(y_test, y_pred_os))\n",
    "print ('Recall: ', recall_score(y_test, y_pred_os))\n",
    "print ('Precision: ', precision_score(y_test, y_pred_os))\n",
    "print ('\\n clasification report:\\n', classification_report(y_test,y_pred_os))\n",
    "print ('\\n confussion matrix:\\n',confusion_matrix(y_test, y_pred_os))"
   ]
  },
  {
   "cell_type": "markdown",
   "id": "23949339",
   "metadata": {},
   "source": [
    "> ### 3. SMOTE"
   ]
  },
  {
   "cell_type": "code",
   "execution_count": 103,
   "id": "9ee4b933",
   "metadata": {},
   "outputs": [
    {
     "data": {
      "text/plain": [
       "2578338"
      ]
     },
     "execution_count": 103,
     "metadata": {},
     "output_type": "execute_result"
    }
   ],
   "source": [
    "# SMOTE\n",
    "from imblearn.over_sampling import SMOTE\n",
    "smt = SMOTE(random_state=45, k_neighbors=5)\n",
    "X_resampled_smt, y_resampled_smt = smt.fit_resample(X_train, y_train)\n",
    "len(X_resampled_smt)"
   ]
  },
  {
   "cell_type": "code",
   "execution_count": 104,
   "id": "94c753ab",
   "metadata": {},
   "outputs": [],
   "source": [
    "#print(sorted(Counter(y_resampled_smt).items()))"
   ]
  },
  {
   "cell_type": "code",
   "execution_count": 105,
   "id": "5bf978c5",
   "metadata": {},
   "outputs": [],
   "source": [
    "lreg_smt = LogisticRegression()\n",
    "lreg_smt.fit(X_resampled_smt, y_resampled_smt)\n",
    "\n",
    "y_pred_smt = lreg_smt.predict(X_test)"
   ]
  },
  {
   "cell_type": "code",
   "execution_count": 106,
   "id": "86a5f8a5",
   "metadata": {},
   "outputs": [
    {
     "name": "stdout",
     "output_type": "stream",
     "text": [
      "Accuracy:  0.8910546517214636\n",
      "F1 score:  0.04631161098246775\n",
      "Recall:  0.6853146853146853\n",
      "Precision:  0.023965567837229775\n",
      "\n",
      " clasification report:\n",
      "               precision    recall  f1-score   support\n",
      "\n",
      "           0       1.00      0.89      0.94    553574\n",
      "           1       0.02      0.69      0.05      2145\n",
      "\n",
      "    accuracy                           0.89    555719\n",
      "   macro avg       0.51      0.79      0.49    555719\n",
      "weighted avg       0.99      0.89      0.94    555719\n",
      "\n",
      "\n",
      " confussion matrix:\n",
      " [[493706  59868]\n",
      " [   675   1470]]\n"
     ]
    }
   ],
   "source": [
    "print ('Accuracy: ', accuracy_score(y_test, y_pred_smt))\n",
    "print ('F1 score: ', f1_score(y_test, y_pred_smt))\n",
    "print ('Recall: ', recall_score(y_test, y_pred_smt))\n",
    "print ('Precision: ', precision_score(y_test, y_pred_smt))\n",
    "print ('\\n clasification report:\\n', classification_report(y_test,y_pred_smt))\n",
    "print ('\\n confussion matrix:\\n',confusion_matrix(y_test, y_pred_smt))"
   ]
  },
  {
   "cell_type": "markdown",
   "id": "aa4cfe7e",
   "metadata": {},
   "source": [
    "## Decision Trees"
   ]
  },
  {
   "cell_type": "markdown",
   "id": "9b9ecac2",
   "metadata": {},
   "source": [
    "> ### 1. Random Oversampling"
   ]
  },
  {
   "cell_type": "code",
   "execution_count": 107,
   "id": "2b89ee9d",
   "metadata": {},
   "outputs": [],
   "source": [
    "# Decision Trees - Random Over-Sampling\n",
    "from sklearn.tree import DecisionTreeClassifier\n",
    "dtc_os = DecisionTreeClassifier(random_state=0)\n",
    "dtc_os.fit(X_resampled_os, y_resampled_os)\n",
    "\n",
    "y_pred_dtc_os = dtc_os.predict(X_test)"
   ]
  },
  {
   "cell_type": "code",
   "execution_count": 108,
   "id": "95574a19",
   "metadata": {},
   "outputs": [
    {
     "name": "stdout",
     "output_type": "stream",
     "text": [
      "Accuracy:  0.9971514380469266\n",
      "F1 score:  0.6360082777650035\n",
      "Recall:  0.6447552447552447\n",
      "Precision:  0.6274954627949183\n",
      "\n",
      " clasification report:\n",
      "               precision    recall  f1-score   support\n",
      "\n",
      "           0       1.00      1.00      1.00    553574\n",
      "           1       0.63      0.64      0.64      2145\n",
      "\n",
      "    accuracy                           1.00    555719\n",
      "   macro avg       0.81      0.82      0.82    555719\n",
      "weighted avg       1.00      1.00      1.00    555719\n",
      "\n",
      "\n",
      " confussion matrix:\n",
      " [[552753    821]\n",
      " [   762   1383]]\n"
     ]
    }
   ],
   "source": [
    "print ('Accuracy: ', accuracy_score(y_test, y_pred_dtc_os))\n",
    "print ('F1 score: ', f1_score(y_test, y_pred_dtc_os))\n",
    "print ('Recall: ', recall_score(y_test, y_pred_dtc_os))\n",
    "print ('Precision: ', precision_score(y_test, y_pred_dtc_os))\n",
    "print ('\\n clasification report:\\n', classification_report(y_test,y_pred_dtc_os))\n",
    "print ('\\n confussion matrix:\\n',confusion_matrix(y_test, y_pred_dtc_os))"
   ]
  },
  {
   "cell_type": "markdown",
   "id": "9ca06963",
   "metadata": {},
   "source": [
    "> ### 2. SMOTE"
   ]
  },
  {
   "cell_type": "code",
   "execution_count": 109,
   "id": "cae601c1",
   "metadata": {},
   "outputs": [],
   "source": [
    "# Decision Trees - SMOTE\n",
    "from sklearn.tree import DecisionTreeClassifier\n",
    "dtc_smt = DecisionTreeClassifier(random_state=0)\n",
    "dtc_smt.fit(X_resampled_smt, y_resampled_smt)\n",
    "\n",
    "y_pred_dtc_smt = dtc_smt.predict(X_test)"
   ]
  },
  {
   "cell_type": "code",
   "execution_count": 110,
   "id": "775aaa4b",
   "metadata": {},
   "outputs": [
    {
     "name": "stdout",
     "output_type": "stream",
     "text": [
      "Accuracy:  0.9911969898455875\n",
      "F1 score:  0.37808288838037124\n",
      "Recall:  0.6932400932400933\n",
      "Precision:  0.2599195944764901\n",
      "\n",
      " clasification report:\n",
      "               precision    recall  f1-score   support\n",
      "\n",
      "           0       1.00      0.99      1.00    553574\n",
      "           1       0.26      0.69      0.38      2145\n",
      "\n",
      "    accuracy                           0.99    555719\n",
      "   macro avg       0.63      0.84      0.69    555719\n",
      "weighted avg       1.00      0.99      0.99    555719\n",
      "\n",
      "\n",
      " confussion matrix:\n",
      " [[549340   4234]\n",
      " [   658   1487]]\n"
     ]
    }
   ],
   "source": [
    "print ('Accuracy: ', accuracy_score(y_test, y_pred_dtc_smt))\n",
    "print ('F1 score: ', f1_score(y_test, y_pred_dtc_smt))\n",
    "print ('Recall: ', recall_score(y_test, y_pred_dtc_smt))\n",
    "print ('Precision: ', precision_score(y_test, y_pred_dtc_smt))\n",
    "print ('\\n clasification report:\\n', classification_report(y_test,y_pred_dtc_smt))\n",
    "print ('\\n confussion matrix:\\n',confusion_matrix(y_test, y_pred_dtc_smt))"
   ]
  },
  {
   "cell_type": "markdown",
   "id": "b2eae8b4",
   "metadata": {},
   "source": [
    "As we can see above on the summary table, we have recall value highest for Logistic regression Random oversampling of '0.73'."
   ]
  },
  {
   "cell_type": "markdown",
   "id": "707aa30c",
   "metadata": {},
   "source": [
    "# Model evaluation cross validation"
   ]
  },
  {
   "cell_type": "markdown",
   "id": "d954e953",
   "metadata": {},
   "source": [
    "## Logistic regression"
   ]
  },
  {
   "cell_type": "code",
   "execution_count": 111,
   "id": "d78c6670",
   "metadata": {},
   "outputs": [],
   "source": [
    "from sklearn.model_selection import cross_val_score"
   ]
  },
  {
   "cell_type": "code",
   "execution_count": 112,
   "id": "801e5c50",
   "metadata": {},
   "outputs": [],
   "source": [
    "# Logistic regression model\n",
    "# Feature Selection Using RFE"
   ]
  },
  {
   "cell_type": "code",
   "execution_count": 113,
   "id": "d5fc3752",
   "metadata": {},
   "outputs": [
    {
     "data": {
      "text/plain": [
       "array([0.76382479, 0.64654778, 0.52452741, 0.55798606, 0.77639058])"
      ]
     },
     "execution_count": 113,
     "metadata": {},
     "output_type": "execute_result"
    }
   ],
   "source": [
    "cross_val_score(lreg_os, X_resampled_os, y_resampled_os, cv=5, n_jobs=-1)"
   ]
  },
  {
   "cell_type": "code",
   "execution_count": 114,
   "id": "2fd479c1",
   "metadata": {},
   "outputs": [
    {
     "data": {
      "text/plain": [
       "array([0.80890806, 0.79115633, 0.79791261, 0.80288792, 0.79667926])"
      ]
     },
     "execution_count": 114,
     "metadata": {},
     "output_type": "execute_result"
    }
   ],
   "source": [
    "# Check a logistic regression model with better recall\n",
    "cross_val_score(lreg_os, X_resampled_os, y_resampled_os, cv=5, n_jobs=-1, scoring=\"recall\")"
   ]
  },
  {
   "cell_type": "markdown",
   "id": "6f95ddb8",
   "metadata": {},
   "source": [
    "## Random Forest Classifier"
   ]
  },
  {
   "cell_type": "code",
   "execution_count": 115,
   "id": "56ab3a06",
   "metadata": {},
   "outputs": [],
   "source": [
    "from sklearn.ensemble import RandomForestClassifier\n",
    "rf = RandomForestClassifier(random_state=42, n_estimators=10, oob_score=True)\n",
    "rf.fit(X_resampled_os, y_resampled_os)\n",
    "\n",
    "y_pred_rf = rf.predict(X_test)"
   ]
  },
  {
   "cell_type": "code",
   "execution_count": 116,
   "id": "80c5bcf0",
   "metadata": {},
   "outputs": [
    {
     "data": {
      "text/plain": [
       "0.9978496326380779"
      ]
     },
     "execution_count": 116,
     "metadata": {},
     "output_type": "execute_result"
    }
   ],
   "source": [
    "# Accuracy score on unseen test data\n",
    "accuracy_score(y_test, y_pred_rf)"
   ]
  },
  {
   "cell_type": "code",
   "execution_count": 117,
   "id": "2e2407d6",
   "metadata": {},
   "outputs": [
    {
     "data": {
      "text/plain": [
       "array([0.99966257, 0.83367399, 0.85429385, 0.79115204, 0.99962767])"
      ]
     },
     "execution_count": 117,
     "metadata": {},
     "output_type": "execute_result"
    }
   ],
   "source": [
    "# By default cross val score gives accuracy\n",
    "cross_val_score(rf, X_resampled_os, y_resampled_os, cv=5, n_jobs=-1)"
   ]
  },
  {
   "cell_type": "code",
   "execution_count": 118,
   "id": "b564e2fd",
   "metadata": {},
   "outputs": [
    {
     "data": {
      "text/plain": [
       "array([1., 1., 1., 1., 1.])"
      ]
     },
     "execution_count": 118,
     "metadata": {},
     "output_type": "execute_result"
    }
   ],
   "source": [
    "# Check a random forest model with better recall\n",
    "cross_val_score(rf, X_resampled_os, y_resampled_os, cv=5, n_jobs=-1, scoring=\"recall\")"
   ]
  },
  {
   "cell_type": "code",
   "execution_count": 119,
   "id": "1f325ffb",
   "metadata": {},
   "outputs": [
    {
     "name": "stdout",
     "output_type": "stream",
     "text": [
      "Accuracy:  0.9978496326380779\n",
      "F1 score:  0.6535227602203536\n",
      "Recall:  0.5254079254079254\n",
      "Precision:  0.8642638036809815\n",
      "\n",
      " clasification report:\n",
      "               precision    recall  f1-score   support\n",
      "\n",
      "           0       1.00      1.00      1.00    553574\n",
      "           1       0.86      0.53      0.65      2145\n",
      "\n",
      "    accuracy                           1.00    555719\n",
      "   macro avg       0.93      0.76      0.83    555719\n",
      "weighted avg       1.00      1.00      1.00    555719\n",
      "\n",
      "\n",
      " confussion matrix:\n",
      " [[553397    177]\n",
      " [  1018   1127]]\n"
     ]
    }
   ],
   "source": [
    "# Lets check the score for oversampling technique\n",
    "print ('Accuracy: ', accuracy_score(y_test, y_pred_rf))\n",
    "print ('F1 score: ', f1_score(y_test, y_pred_rf))\n",
    "print ('Recall: ', recall_score(y_test, y_pred_rf))\n",
    "print ('Precision: ', precision_score(y_test, y_pred_rf))\n",
    "print ('\\n clasification report:\\n', classification_report(y_test,y_pred_rf))\n",
    "print ('\\n confussion matrix:\\n',confusion_matrix(y_test, y_pred_rf))"
   ]
  },
  {
   "cell_type": "markdown",
   "id": "623480a3",
   "metadata": {},
   "source": [
    "## Feature selection"
   ]
  },
  {
   "cell_type": "code",
   "execution_count": 120,
   "id": "84bc8f5d",
   "metadata": {},
   "outputs": [
    {
     "data": {
      "text/plain": [
       "(2578338, 43)"
      ]
     },
     "execution_count": 120,
     "metadata": {},
     "output_type": "execute_result"
    }
   ],
   "source": [
    "X_resampled_os.shape"
   ]
  },
  {
   "cell_type": "markdown",
   "id": "608ed5f6",
   "metadata": {},
   "source": [
    "### Cross validation for feature selection - RFECV\n",
    "- Since we dont know how much features are required for getting a good model.\n",
    "- We have a RFECV Module in sklearn for this."
   ]
  },
  {
   "cell_type": "code",
   "execution_count": 121,
   "id": "abc34a19",
   "metadata": {},
   "outputs": [],
   "source": [
    "from sklearn.feature_selection import RFECV"
   ]
  },
  {
   "cell_type": "code",
   "execution_count": 121,
   "id": "c8e7ee33",
   "metadata": {},
   "outputs": [],
   "source": [
    "rfecv = RFECV(estimator=lreg_os, cv=4, n_jobs=-1)"
   ]
  },
  {
   "cell_type": "code",
   "execution_count": 122,
   "id": "971342de",
   "metadata": {},
   "outputs": [
    {
     "ename": "MemoryError",
     "evalue": "Unable to allocate 634. MiB for an array with shape (43, 1933753) and data type float64",
     "output_type": "error",
     "traceback": [
      "\u001b[1;31m---------------------------------------------------------------------------\u001b[0m",
      "\u001b[1;31m_RemoteTraceback\u001b[0m                          Traceback (most recent call last)",
      "\u001b[1;31m_RemoteTraceback\u001b[0m: \n\"\"\"\nTraceback (most recent call last):\n  File \"I:\\anaconda_installation_file\\lib\\site-packages\\joblib\\externals\\loky\\process_executor.py\", line 463, in _process_worker\n    r = call_item()\n  File \"I:\\anaconda_installation_file\\lib\\site-packages\\joblib\\externals\\loky\\process_executor.py\", line 291, in __call__\n    return self.fn(*self.args, **self.kwargs)\n  File \"I:\\anaconda_installation_file\\lib\\site-packages\\joblib\\parallel.py\", line 588, in __call__\n    return [func(*args, **kwargs)\n  File \"I:\\anaconda_installation_file\\lib\\site-packages\\joblib\\parallel.py\", line 588, in <listcomp>\n    return [func(*args, **kwargs)\n  File \"I:\\anaconda_installation_file\\lib\\site-packages\\sklearn\\utils\\fixes.py\", line 216, in __call__\n    return self.function(*args, **kwargs)\n  File \"I:\\anaconda_installation_file\\lib\\site-packages\\sklearn\\feature_selection\\_rfe.py\", line 37, in _rfe_single_fit\n    return rfe._fit(\n  File \"I:\\anaconda_installation_file\\lib\\site-packages\\sklearn\\feature_selection\\_rfe.py\", line 283, in _fit\n    estimator.fit(X[:, features], y, **fit_params)\nnumpy.core._exceptions._ArrayMemoryError: Unable to allocate 634. MiB for an array with shape (43, 1933753) and data type float64\n\"\"\"",
      "\nThe above exception was the direct cause of the following exception:\n",
      "\u001b[1;31mMemoryError\u001b[0m                               Traceback (most recent call last)",
      "\u001b[1;32m~\\AppData\\Local\\Temp\\ipykernel_10468\\4005627021.py\u001b[0m in \u001b[0;36m<module>\u001b[1;34m\u001b[0m\n\u001b[0;32m      1\u001b[0m \u001b[1;31m# %%time\u001b[0m\u001b[1;33m\u001b[0m\u001b[1;33m\u001b[0m\u001b[0m\n\u001b[1;32m----> 2\u001b[1;33m \u001b[0mrfecv\u001b[0m\u001b[1;33m.\u001b[0m\u001b[0mfit\u001b[0m\u001b[1;33m(\u001b[0m\u001b[0mX_resampled_os\u001b[0m\u001b[1;33m,\u001b[0m \u001b[0my_resampled_os\u001b[0m\u001b[1;33m)\u001b[0m\u001b[1;33m\u001b[0m\u001b[1;33m\u001b[0m\u001b[0m\n\u001b[0m",
      "\u001b[1;32mI:\\anaconda_installation_file\\lib\\site-packages\\sklearn\\feature_selection\\_rfe.py\u001b[0m in \u001b[0;36mfit\u001b[1;34m(self, X, y, groups)\u001b[0m\n\u001b[0;32m    708\u001b[0m             \u001b[0mfunc\u001b[0m \u001b[1;33m=\u001b[0m \u001b[0mdelayed\u001b[0m\u001b[1;33m(\u001b[0m\u001b[0m_rfe_single_fit\u001b[0m\u001b[1;33m)\u001b[0m\u001b[1;33m\u001b[0m\u001b[1;33m\u001b[0m\u001b[0m\n\u001b[0;32m    709\u001b[0m \u001b[1;33m\u001b[0m\u001b[0m\n\u001b[1;32m--> 710\u001b[1;33m         scores = parallel(\n\u001b[0m\u001b[0;32m    711\u001b[0m             \u001b[0mfunc\u001b[0m\u001b[1;33m(\u001b[0m\u001b[0mrfe\u001b[0m\u001b[1;33m,\u001b[0m \u001b[0mself\u001b[0m\u001b[1;33m.\u001b[0m\u001b[0mestimator\u001b[0m\u001b[1;33m,\u001b[0m \u001b[0mX\u001b[0m\u001b[1;33m,\u001b[0m \u001b[0my\u001b[0m\u001b[1;33m,\u001b[0m \u001b[0mtrain\u001b[0m\u001b[1;33m,\u001b[0m \u001b[0mtest\u001b[0m\u001b[1;33m,\u001b[0m \u001b[0mscorer\u001b[0m\u001b[1;33m)\u001b[0m\u001b[1;33m\u001b[0m\u001b[1;33m\u001b[0m\u001b[0m\n\u001b[0;32m    712\u001b[0m             \u001b[1;32mfor\u001b[0m \u001b[0mtrain\u001b[0m\u001b[1;33m,\u001b[0m \u001b[0mtest\u001b[0m \u001b[1;32min\u001b[0m \u001b[0mcv\u001b[0m\u001b[1;33m.\u001b[0m\u001b[0msplit\u001b[0m\u001b[1;33m(\u001b[0m\u001b[0mX\u001b[0m\u001b[1;33m,\u001b[0m \u001b[0my\u001b[0m\u001b[1;33m,\u001b[0m \u001b[0mgroups\u001b[0m\u001b[1;33m)\u001b[0m\u001b[1;33m\u001b[0m\u001b[1;33m\u001b[0m\u001b[0m\n",
      "\u001b[1;32mI:\\anaconda_installation_file\\lib\\site-packages\\joblib\\parallel.py\u001b[0m in \u001b[0;36m__call__\u001b[1;34m(self, iterable)\u001b[0m\n\u001b[0;32m   1942\u001b[0m         \u001b[0mnext\u001b[0m\u001b[1;33m(\u001b[0m\u001b[0moutput\u001b[0m\u001b[1;33m)\u001b[0m\u001b[1;33m\u001b[0m\u001b[1;33m\u001b[0m\u001b[0m\n\u001b[0;32m   1943\u001b[0m \u001b[1;33m\u001b[0m\u001b[0m\n\u001b[1;32m-> 1944\u001b[1;33m         \u001b[1;32mreturn\u001b[0m \u001b[0moutput\u001b[0m \u001b[1;32mif\u001b[0m \u001b[0mself\u001b[0m\u001b[1;33m.\u001b[0m\u001b[0mreturn_generator\u001b[0m \u001b[1;32melse\u001b[0m \u001b[0mlist\u001b[0m\u001b[1;33m(\u001b[0m\u001b[0moutput\u001b[0m\u001b[1;33m)\u001b[0m\u001b[1;33m\u001b[0m\u001b[1;33m\u001b[0m\u001b[0m\n\u001b[0m\u001b[0;32m   1945\u001b[0m \u001b[1;33m\u001b[0m\u001b[0m\n\u001b[0;32m   1946\u001b[0m     \u001b[1;32mdef\u001b[0m \u001b[0m__repr__\u001b[0m\u001b[1;33m(\u001b[0m\u001b[0mself\u001b[0m\u001b[1;33m)\u001b[0m\u001b[1;33m:\u001b[0m\u001b[1;33m\u001b[0m\u001b[1;33m\u001b[0m\u001b[0m\n",
      "\u001b[1;32mI:\\anaconda_installation_file\\lib\\site-packages\\joblib\\parallel.py\u001b[0m in \u001b[0;36m_get_outputs\u001b[1;34m(self, iterator, pre_dispatch)\u001b[0m\n\u001b[0;32m   1585\u001b[0m \u001b[1;33m\u001b[0m\u001b[0m\n\u001b[0;32m   1586\u001b[0m             \u001b[1;32mwith\u001b[0m \u001b[0mself\u001b[0m\u001b[1;33m.\u001b[0m\u001b[0m_backend\u001b[0m\u001b[1;33m.\u001b[0m\u001b[0mretrieval_context\u001b[0m\u001b[1;33m(\u001b[0m\u001b[1;33m)\u001b[0m\u001b[1;33m:\u001b[0m\u001b[1;33m\u001b[0m\u001b[1;33m\u001b[0m\u001b[0m\n\u001b[1;32m-> 1587\u001b[1;33m                 \u001b[1;32myield\u001b[0m \u001b[1;32mfrom\u001b[0m \u001b[0mself\u001b[0m\u001b[1;33m.\u001b[0m\u001b[0m_retrieve\u001b[0m\u001b[1;33m(\u001b[0m\u001b[1;33m)\u001b[0m\u001b[1;33m\u001b[0m\u001b[1;33m\u001b[0m\u001b[0m\n\u001b[0m\u001b[0;32m   1588\u001b[0m \u001b[1;33m\u001b[0m\u001b[0m\n\u001b[0;32m   1589\u001b[0m         \u001b[1;32mexcept\u001b[0m \u001b[0mGeneratorExit\u001b[0m\u001b[1;33m:\u001b[0m\u001b[1;33m\u001b[0m\u001b[1;33m\u001b[0m\u001b[0m\n",
      "\u001b[1;32mI:\\anaconda_installation_file\\lib\\site-packages\\joblib\\parallel.py\u001b[0m in \u001b[0;36m_retrieve\u001b[1;34m(self)\u001b[0m\n\u001b[0;32m   1689\u001b[0m             \u001b[1;31m# worker traceback.\u001b[0m\u001b[1;33m\u001b[0m\u001b[1;33m\u001b[0m\u001b[0m\n\u001b[0;32m   1690\u001b[0m             \u001b[1;32mif\u001b[0m \u001b[0mself\u001b[0m\u001b[1;33m.\u001b[0m\u001b[0m_aborting\u001b[0m\u001b[1;33m:\u001b[0m\u001b[1;33m\u001b[0m\u001b[1;33m\u001b[0m\u001b[0m\n\u001b[1;32m-> 1691\u001b[1;33m                 \u001b[0mself\u001b[0m\u001b[1;33m.\u001b[0m\u001b[0m_raise_error_fast\u001b[0m\u001b[1;33m(\u001b[0m\u001b[1;33m)\u001b[0m\u001b[1;33m\u001b[0m\u001b[1;33m\u001b[0m\u001b[0m\n\u001b[0m\u001b[0;32m   1692\u001b[0m                 \u001b[1;32mbreak\u001b[0m\u001b[1;33m\u001b[0m\u001b[1;33m\u001b[0m\u001b[0m\n\u001b[0;32m   1693\u001b[0m \u001b[1;33m\u001b[0m\u001b[0m\n",
      "\u001b[1;32mI:\\anaconda_installation_file\\lib\\site-packages\\joblib\\parallel.py\u001b[0m in \u001b[0;36m_raise_error_fast\u001b[1;34m(self)\u001b[0m\n\u001b[0;32m   1724\u001b[0m         \u001b[1;31m# called directly or if the generator is gc'ed.\u001b[0m\u001b[1;33m\u001b[0m\u001b[1;33m\u001b[0m\u001b[0m\n\u001b[0;32m   1725\u001b[0m         \u001b[1;32mif\u001b[0m \u001b[0merror_job\u001b[0m \u001b[1;32mis\u001b[0m \u001b[1;32mnot\u001b[0m \u001b[1;32mNone\u001b[0m\u001b[1;33m:\u001b[0m\u001b[1;33m\u001b[0m\u001b[1;33m\u001b[0m\u001b[0m\n\u001b[1;32m-> 1726\u001b[1;33m             \u001b[0merror_job\u001b[0m\u001b[1;33m.\u001b[0m\u001b[0mget_result\u001b[0m\u001b[1;33m(\u001b[0m\u001b[0mself\u001b[0m\u001b[1;33m.\u001b[0m\u001b[0mtimeout\u001b[0m\u001b[1;33m)\u001b[0m\u001b[1;33m\u001b[0m\u001b[1;33m\u001b[0m\u001b[0m\n\u001b[0m\u001b[0;32m   1727\u001b[0m \u001b[1;33m\u001b[0m\u001b[0m\n\u001b[0;32m   1728\u001b[0m     \u001b[1;32mdef\u001b[0m \u001b[0m_warn_exit_early\u001b[0m\u001b[1;33m(\u001b[0m\u001b[0mself\u001b[0m\u001b[1;33m)\u001b[0m\u001b[1;33m:\u001b[0m\u001b[1;33m\u001b[0m\u001b[1;33m\u001b[0m\u001b[0m\n",
      "\u001b[1;32mI:\\anaconda_installation_file\\lib\\site-packages\\joblib\\parallel.py\u001b[0m in \u001b[0;36mget_result\u001b[1;34m(self, timeout)\u001b[0m\n\u001b[0;32m    733\u001b[0m             \u001b[1;31m# callback thread, and is stored internally. It's just waiting to\u001b[0m\u001b[1;33m\u001b[0m\u001b[1;33m\u001b[0m\u001b[0m\n\u001b[0;32m    734\u001b[0m             \u001b[1;31m# be returned.\u001b[0m\u001b[1;33m\u001b[0m\u001b[1;33m\u001b[0m\u001b[0m\n\u001b[1;32m--> 735\u001b[1;33m             \u001b[1;32mreturn\u001b[0m \u001b[0mself\u001b[0m\u001b[1;33m.\u001b[0m\u001b[0m_return_or_raise\u001b[0m\u001b[1;33m(\u001b[0m\u001b[1;33m)\u001b[0m\u001b[1;33m\u001b[0m\u001b[1;33m\u001b[0m\u001b[0m\n\u001b[0m\u001b[0;32m    736\u001b[0m \u001b[1;33m\u001b[0m\u001b[0m\n\u001b[0;32m    737\u001b[0m         \u001b[1;31m# For other backends, the main thread needs to run the retrieval step.\u001b[0m\u001b[1;33m\u001b[0m\u001b[1;33m\u001b[0m\u001b[0m\n",
      "\u001b[1;32mI:\\anaconda_installation_file\\lib\\site-packages\\joblib\\parallel.py\u001b[0m in \u001b[0;36m_return_or_raise\u001b[1;34m(self)\u001b[0m\n\u001b[0;32m    751\u001b[0m         \u001b[1;32mtry\u001b[0m\u001b[1;33m:\u001b[0m\u001b[1;33m\u001b[0m\u001b[1;33m\u001b[0m\u001b[0m\n\u001b[0;32m    752\u001b[0m             \u001b[1;32mif\u001b[0m \u001b[0mself\u001b[0m\u001b[1;33m.\u001b[0m\u001b[0mstatus\u001b[0m \u001b[1;33m==\u001b[0m \u001b[0mTASK_ERROR\u001b[0m\u001b[1;33m:\u001b[0m\u001b[1;33m\u001b[0m\u001b[1;33m\u001b[0m\u001b[0m\n\u001b[1;32m--> 753\u001b[1;33m                 \u001b[1;32mraise\u001b[0m \u001b[0mself\u001b[0m\u001b[1;33m.\u001b[0m\u001b[0m_result\u001b[0m\u001b[1;33m\u001b[0m\u001b[1;33m\u001b[0m\u001b[0m\n\u001b[0m\u001b[0;32m    754\u001b[0m             \u001b[1;32mreturn\u001b[0m \u001b[0mself\u001b[0m\u001b[1;33m.\u001b[0m\u001b[0m_result\u001b[0m\u001b[1;33m\u001b[0m\u001b[1;33m\u001b[0m\u001b[0m\n\u001b[0;32m    755\u001b[0m         \u001b[1;32mfinally\u001b[0m\u001b[1;33m:\u001b[0m\u001b[1;33m\u001b[0m\u001b[1;33m\u001b[0m\u001b[0m\n",
      "\u001b[1;31mMemoryError\u001b[0m: Unable to allocate 634. MiB for an array with shape (43, 1933753) and data type float64"
     ]
    }
   ],
   "source": [
    "# %%time\n",
    "rfecv.fit(X_resampled_os, y_resampled_os)"
   ]
  },
  {
   "cell_type": "code",
   "execution_count": null,
   "id": "74865640",
   "metadata": {
    "scrolled": true
   },
   "outputs": [],
   "source": [
    "rfecv.n_features_"
   ]
  },
  {
   "cell_type": "markdown",
   "id": "79750a9d",
   "metadata": {},
   "source": [
    "## Hyper-parameter tuning using Cross Validation"
   ]
  },
  {
   "cell_type": "markdown",
   "id": "f4b4b2a7",
   "metadata": {},
   "source": [
    "### GridSearchCV"
   ]
  },
  {
   "cell_type": "code",
   "execution_count": null,
   "id": "dd518c22",
   "metadata": {},
   "outputs": [],
   "source": [
    "# Logistic regression"
   ]
  },
  {
   "cell_type": "code",
   "execution_count": 123,
   "id": "4e73a572",
   "metadata": {},
   "outputs": [],
   "source": [
    "from sklearn.model_selection import GridSearchCV"
   ]
  },
  {
   "cell_type": "code",
   "execution_count": 124,
   "id": "04a87855",
   "metadata": {},
   "outputs": [],
   "source": [
    "parameters = {\n",
    "    'penalty' : ['l1','l2'], \n",
    "    'C'       : np.logspace(-3,3,7),\n",
    "    'solver'  : ['newton-cg', 'lbfgs', 'liblinear']\n",
    "}"
   ]
  },
  {
   "cell_type": "code",
   "execution_count": 125,
   "id": "9e55e178",
   "metadata": {},
   "outputs": [],
   "source": [
    "clf = GridSearchCV(lreg_os,                    # model\n",
    "                   param_grid = parameters,    # hyperparameters\n",
    "                   scoring='recall',           # metric for scoring\n",
    "                   cv=5,                       # number of folds\n",
    "                  n_jobs=-1,\n",
    "                  return_train_score=True)"
   ]
  },
  {
   "cell_type": "code",
   "execution_count": 126,
   "id": "689129db",
   "metadata": {},
   "outputs": [
    {
     "ename": "TerminatedWorkerError",
     "evalue": "A worker process managed by the executor was unexpectedly terminated. This could be caused by a segmentation fault while calling the function or by an excessive memory usage causing the Operating System to kill the worker.\n",
     "output_type": "error",
     "traceback": [
      "\u001b[1;31m---------------------------------------------------------------------------\u001b[0m",
      "\u001b[1;31mTerminatedWorkerError\u001b[0m                     Traceback (most recent call last)",
      "\u001b[1;32m~\\AppData\\Local\\Temp\\ipykernel_10468\\2279702148.py\u001b[0m in \u001b[0;36m<module>\u001b[1;34m\u001b[0m\n\u001b[1;32m----> 1\u001b[1;33m \u001b[0mclf\u001b[0m\u001b[1;33m.\u001b[0m\u001b[0mfit\u001b[0m\u001b[1;33m(\u001b[0m\u001b[0mX_resampled_os\u001b[0m\u001b[1;33m,\u001b[0m \u001b[0my_resampled_os\u001b[0m\u001b[1;33m)\u001b[0m\u001b[1;33m\u001b[0m\u001b[1;33m\u001b[0m\u001b[0m\n\u001b[0m",
      "\u001b[1;32mI:\\anaconda_installation_file\\lib\\site-packages\\sklearn\\model_selection\\_search.py\u001b[0m in \u001b[0;36mfit\u001b[1;34m(self, X, y, groups, **fit_params)\u001b[0m\n\u001b[0;32m    889\u001b[0m                 \u001b[1;32mreturn\u001b[0m \u001b[0mresults\u001b[0m\u001b[1;33m\u001b[0m\u001b[1;33m\u001b[0m\u001b[0m\n\u001b[0;32m    890\u001b[0m \u001b[1;33m\u001b[0m\u001b[0m\n\u001b[1;32m--> 891\u001b[1;33m             \u001b[0mself\u001b[0m\u001b[1;33m.\u001b[0m\u001b[0m_run_search\u001b[0m\u001b[1;33m(\u001b[0m\u001b[0mevaluate_candidates\u001b[0m\u001b[1;33m)\u001b[0m\u001b[1;33m\u001b[0m\u001b[1;33m\u001b[0m\u001b[0m\n\u001b[0m\u001b[0;32m    892\u001b[0m \u001b[1;33m\u001b[0m\u001b[0m\n\u001b[0;32m    893\u001b[0m             \u001b[1;31m# multimetric is determined here because in the case of a callable\u001b[0m\u001b[1;33m\u001b[0m\u001b[1;33m\u001b[0m\u001b[0m\n",
      "\u001b[1;32mI:\\anaconda_installation_file\\lib\\site-packages\\sklearn\\model_selection\\_search.py\u001b[0m in \u001b[0;36m_run_search\u001b[1;34m(self, evaluate_candidates)\u001b[0m\n\u001b[0;32m   1390\u001b[0m     \u001b[1;32mdef\u001b[0m \u001b[0m_run_search\u001b[0m\u001b[1;33m(\u001b[0m\u001b[0mself\u001b[0m\u001b[1;33m,\u001b[0m \u001b[0mevaluate_candidates\u001b[0m\u001b[1;33m)\u001b[0m\u001b[1;33m:\u001b[0m\u001b[1;33m\u001b[0m\u001b[1;33m\u001b[0m\u001b[0m\n\u001b[0;32m   1391\u001b[0m         \u001b[1;34m\"\"\"Search all candidates in param_grid\"\"\"\u001b[0m\u001b[1;33m\u001b[0m\u001b[1;33m\u001b[0m\u001b[0m\n\u001b[1;32m-> 1392\u001b[1;33m         \u001b[0mevaluate_candidates\u001b[0m\u001b[1;33m(\u001b[0m\u001b[0mParameterGrid\u001b[0m\u001b[1;33m(\u001b[0m\u001b[0mself\u001b[0m\u001b[1;33m.\u001b[0m\u001b[0mparam_grid\u001b[0m\u001b[1;33m)\u001b[0m\u001b[1;33m)\u001b[0m\u001b[1;33m\u001b[0m\u001b[1;33m\u001b[0m\u001b[0m\n\u001b[0m\u001b[0;32m   1393\u001b[0m \u001b[1;33m\u001b[0m\u001b[0m\n\u001b[0;32m   1394\u001b[0m \u001b[1;33m\u001b[0m\u001b[0m\n",
      "\u001b[1;32mI:\\anaconda_installation_file\\lib\\site-packages\\sklearn\\model_selection\\_search.py\u001b[0m in \u001b[0;36mevaluate_candidates\u001b[1;34m(candidate_params, cv, more_results)\u001b[0m\n\u001b[0;32m    836\u001b[0m                     )\n\u001b[0;32m    837\u001b[0m \u001b[1;33m\u001b[0m\u001b[0m\n\u001b[1;32m--> 838\u001b[1;33m                 out = parallel(\n\u001b[0m\u001b[0;32m    839\u001b[0m                     delayed(_fit_and_score)(\n\u001b[0;32m    840\u001b[0m                         \u001b[0mclone\u001b[0m\u001b[1;33m(\u001b[0m\u001b[0mbase_estimator\u001b[0m\u001b[1;33m)\u001b[0m\u001b[1;33m,\u001b[0m\u001b[1;33m\u001b[0m\u001b[1;33m\u001b[0m\u001b[0m\n",
      "\u001b[1;32mI:\\anaconda_installation_file\\lib\\site-packages\\joblib\\parallel.py\u001b[0m in \u001b[0;36m__call__\u001b[1;34m(self, iterable)\u001b[0m\n\u001b[0;32m   1942\u001b[0m         \u001b[0mnext\u001b[0m\u001b[1;33m(\u001b[0m\u001b[0moutput\u001b[0m\u001b[1;33m)\u001b[0m\u001b[1;33m\u001b[0m\u001b[1;33m\u001b[0m\u001b[0m\n\u001b[0;32m   1943\u001b[0m \u001b[1;33m\u001b[0m\u001b[0m\n\u001b[1;32m-> 1944\u001b[1;33m         \u001b[1;32mreturn\u001b[0m \u001b[0moutput\u001b[0m \u001b[1;32mif\u001b[0m \u001b[0mself\u001b[0m\u001b[1;33m.\u001b[0m\u001b[0mreturn_generator\u001b[0m \u001b[1;32melse\u001b[0m \u001b[0mlist\u001b[0m\u001b[1;33m(\u001b[0m\u001b[0moutput\u001b[0m\u001b[1;33m)\u001b[0m\u001b[1;33m\u001b[0m\u001b[1;33m\u001b[0m\u001b[0m\n\u001b[0m\u001b[0;32m   1945\u001b[0m \u001b[1;33m\u001b[0m\u001b[0m\n\u001b[0;32m   1946\u001b[0m     \u001b[1;32mdef\u001b[0m \u001b[0m__repr__\u001b[0m\u001b[1;33m(\u001b[0m\u001b[0mself\u001b[0m\u001b[1;33m)\u001b[0m\u001b[1;33m:\u001b[0m\u001b[1;33m\u001b[0m\u001b[1;33m\u001b[0m\u001b[0m\n",
      "\u001b[1;32mI:\\anaconda_installation_file\\lib\\site-packages\\joblib\\parallel.py\u001b[0m in \u001b[0;36m_get_outputs\u001b[1;34m(self, iterator, pre_dispatch)\u001b[0m\n\u001b[0;32m   1585\u001b[0m \u001b[1;33m\u001b[0m\u001b[0m\n\u001b[0;32m   1586\u001b[0m             \u001b[1;32mwith\u001b[0m \u001b[0mself\u001b[0m\u001b[1;33m.\u001b[0m\u001b[0m_backend\u001b[0m\u001b[1;33m.\u001b[0m\u001b[0mretrieval_context\u001b[0m\u001b[1;33m(\u001b[0m\u001b[1;33m)\u001b[0m\u001b[1;33m:\u001b[0m\u001b[1;33m\u001b[0m\u001b[1;33m\u001b[0m\u001b[0m\n\u001b[1;32m-> 1587\u001b[1;33m                 \u001b[1;32myield\u001b[0m \u001b[1;32mfrom\u001b[0m \u001b[0mself\u001b[0m\u001b[1;33m.\u001b[0m\u001b[0m_retrieve\u001b[0m\u001b[1;33m(\u001b[0m\u001b[1;33m)\u001b[0m\u001b[1;33m\u001b[0m\u001b[1;33m\u001b[0m\u001b[0m\n\u001b[0m\u001b[0;32m   1588\u001b[0m \u001b[1;33m\u001b[0m\u001b[0m\n\u001b[0;32m   1589\u001b[0m         \u001b[1;32mexcept\u001b[0m \u001b[0mGeneratorExit\u001b[0m\u001b[1;33m:\u001b[0m\u001b[1;33m\u001b[0m\u001b[1;33m\u001b[0m\u001b[0m\n",
      "\u001b[1;32mI:\\anaconda_installation_file\\lib\\site-packages\\joblib\\parallel.py\u001b[0m in \u001b[0;36m_retrieve\u001b[1;34m(self)\u001b[0m\n\u001b[0;32m   1689\u001b[0m             \u001b[1;31m# worker traceback.\u001b[0m\u001b[1;33m\u001b[0m\u001b[1;33m\u001b[0m\u001b[0m\n\u001b[0;32m   1690\u001b[0m             \u001b[1;32mif\u001b[0m \u001b[0mself\u001b[0m\u001b[1;33m.\u001b[0m\u001b[0m_aborting\u001b[0m\u001b[1;33m:\u001b[0m\u001b[1;33m\u001b[0m\u001b[1;33m\u001b[0m\u001b[0m\n\u001b[1;32m-> 1691\u001b[1;33m                 \u001b[0mself\u001b[0m\u001b[1;33m.\u001b[0m\u001b[0m_raise_error_fast\u001b[0m\u001b[1;33m(\u001b[0m\u001b[1;33m)\u001b[0m\u001b[1;33m\u001b[0m\u001b[1;33m\u001b[0m\u001b[0m\n\u001b[0m\u001b[0;32m   1692\u001b[0m                 \u001b[1;32mbreak\u001b[0m\u001b[1;33m\u001b[0m\u001b[1;33m\u001b[0m\u001b[0m\n\u001b[0;32m   1693\u001b[0m \u001b[1;33m\u001b[0m\u001b[0m\n",
      "\u001b[1;32mI:\\anaconda_installation_file\\lib\\site-packages\\joblib\\parallel.py\u001b[0m in \u001b[0;36m_raise_error_fast\u001b[1;34m(self)\u001b[0m\n\u001b[0;32m   1724\u001b[0m         \u001b[1;31m# called directly or if the generator is gc'ed.\u001b[0m\u001b[1;33m\u001b[0m\u001b[1;33m\u001b[0m\u001b[0m\n\u001b[0;32m   1725\u001b[0m         \u001b[1;32mif\u001b[0m \u001b[0merror_job\u001b[0m \u001b[1;32mis\u001b[0m \u001b[1;32mnot\u001b[0m \u001b[1;32mNone\u001b[0m\u001b[1;33m:\u001b[0m\u001b[1;33m\u001b[0m\u001b[1;33m\u001b[0m\u001b[0m\n\u001b[1;32m-> 1726\u001b[1;33m             \u001b[0merror_job\u001b[0m\u001b[1;33m.\u001b[0m\u001b[0mget_result\u001b[0m\u001b[1;33m(\u001b[0m\u001b[0mself\u001b[0m\u001b[1;33m.\u001b[0m\u001b[0mtimeout\u001b[0m\u001b[1;33m)\u001b[0m\u001b[1;33m\u001b[0m\u001b[1;33m\u001b[0m\u001b[0m\n\u001b[0m\u001b[0;32m   1727\u001b[0m \u001b[1;33m\u001b[0m\u001b[0m\n\u001b[0;32m   1728\u001b[0m     \u001b[1;32mdef\u001b[0m \u001b[0m_warn_exit_early\u001b[0m\u001b[1;33m(\u001b[0m\u001b[0mself\u001b[0m\u001b[1;33m)\u001b[0m\u001b[1;33m:\u001b[0m\u001b[1;33m\u001b[0m\u001b[1;33m\u001b[0m\u001b[0m\n",
      "\u001b[1;32mI:\\anaconda_installation_file\\lib\\site-packages\\joblib\\parallel.py\u001b[0m in \u001b[0;36mget_result\u001b[1;34m(self, timeout)\u001b[0m\n\u001b[0;32m    733\u001b[0m             \u001b[1;31m# callback thread, and is stored internally. It's just waiting to\u001b[0m\u001b[1;33m\u001b[0m\u001b[1;33m\u001b[0m\u001b[0m\n\u001b[0;32m    734\u001b[0m             \u001b[1;31m# be returned.\u001b[0m\u001b[1;33m\u001b[0m\u001b[1;33m\u001b[0m\u001b[0m\n\u001b[1;32m--> 735\u001b[1;33m             \u001b[1;32mreturn\u001b[0m \u001b[0mself\u001b[0m\u001b[1;33m.\u001b[0m\u001b[0m_return_or_raise\u001b[0m\u001b[1;33m(\u001b[0m\u001b[1;33m)\u001b[0m\u001b[1;33m\u001b[0m\u001b[1;33m\u001b[0m\u001b[0m\n\u001b[0m\u001b[0;32m    736\u001b[0m \u001b[1;33m\u001b[0m\u001b[0m\n\u001b[0;32m    737\u001b[0m         \u001b[1;31m# For other backends, the main thread needs to run the retrieval step.\u001b[0m\u001b[1;33m\u001b[0m\u001b[1;33m\u001b[0m\u001b[0m\n",
      "\u001b[1;32mI:\\anaconda_installation_file\\lib\\site-packages\\joblib\\parallel.py\u001b[0m in \u001b[0;36m_return_or_raise\u001b[1;34m(self)\u001b[0m\n\u001b[0;32m    751\u001b[0m         \u001b[1;32mtry\u001b[0m\u001b[1;33m:\u001b[0m\u001b[1;33m\u001b[0m\u001b[1;33m\u001b[0m\u001b[0m\n\u001b[0;32m    752\u001b[0m             \u001b[1;32mif\u001b[0m \u001b[0mself\u001b[0m\u001b[1;33m.\u001b[0m\u001b[0mstatus\u001b[0m \u001b[1;33m==\u001b[0m \u001b[0mTASK_ERROR\u001b[0m\u001b[1;33m:\u001b[0m\u001b[1;33m\u001b[0m\u001b[1;33m\u001b[0m\u001b[0m\n\u001b[1;32m--> 753\u001b[1;33m                 \u001b[1;32mraise\u001b[0m \u001b[0mself\u001b[0m\u001b[1;33m.\u001b[0m\u001b[0m_result\u001b[0m\u001b[1;33m\u001b[0m\u001b[1;33m\u001b[0m\u001b[0m\n\u001b[0m\u001b[0;32m    754\u001b[0m             \u001b[1;32mreturn\u001b[0m \u001b[0mself\u001b[0m\u001b[1;33m.\u001b[0m\u001b[0m_result\u001b[0m\u001b[1;33m\u001b[0m\u001b[1;33m\u001b[0m\u001b[0m\n\u001b[0;32m    755\u001b[0m         \u001b[1;32mfinally\u001b[0m\u001b[1;33m:\u001b[0m\u001b[1;33m\u001b[0m\u001b[1;33m\u001b[0m\u001b[0m\n",
      "\u001b[1;31mTerminatedWorkerError\u001b[0m: A worker process managed by the executor was unexpectedly terminated. This could be caused by a segmentation fault while calling the function or by an excessive memory usage causing the Operating System to kill the worker.\n"
     ]
    }
   ],
   "source": [
    "clf.fit(X_resampled_os, y_resampled_os)"
   ]
  },
  {
   "cell_type": "code",
   "execution_count": null,
   "id": "2fe888cd",
   "metadata": {},
   "outputs": [],
   "source": [
    "clf.best_score_"
   ]
  },
  {
   "cell_type": "code",
   "execution_count": null,
   "id": "4d4963b0",
   "metadata": {},
   "outputs": [],
   "source": [
    "clf.best_estimator_"
   ]
  },
  {
   "cell_type": "code",
   "execution_count": null,
   "id": "d1de0cee",
   "metadata": {},
   "outputs": [],
   "source": [
    "# Random Forest"
   ]
  },
  {
   "cell_type": "code",
   "execution_count": 127,
   "id": "f8c8b97b",
   "metadata": {},
   "outputs": [],
   "source": [
    "rf_cv = RandomForestClassifier(random_state=42, n_jobs=-1)"
   ]
  },
  {
   "cell_type": "code",
   "execution_count": 128,
   "id": "e06ea527",
   "metadata": {},
   "outputs": [],
   "source": [
    "hyper_params = {'max_depth': [3, 5, 10, 15],\n",
    "                'max_features': [3, 5, 7, 11],\n",
    "                'min_samples_leaf': [20, 50, 100, 200],\n",
    "                'n_estimators': [10, 25, 50, 80]\n",
    "               }"
   ]
  },
  {
   "cell_type": "code",
   "execution_count": 129,
   "id": "fa214f8e",
   "metadata": {},
   "outputs": [],
   "source": [
    "rf_model_cv = GridSearchCV(estimator=rf_cv, \n",
    "             param_grid=hyper_params,\n",
    "             verbose=1,\n",
    "             cv=5,\n",
    "             n_jobs=-1,\n",
    "             return_train_score=True)"
   ]
  },
  {
   "cell_type": "code",
   "execution_count": null,
   "id": "e35f7e6a",
   "metadata": {},
   "outputs": [
    {
     "name": "stdout",
     "output_type": "stream",
     "text": [
      "Fitting 5 folds for each of 256 candidates, totalling 1280 fits\n"
     ]
    }
   ],
   "source": [
    "rf_model_cv.fit(X_resampled_os, y_resampled_os)"
   ]
  },
  {
   "cell_type": "markdown",
   "id": "080628d7",
   "metadata": {},
   "source": [
    "### Other cross validation schemes in Sklearn"
   ]
  },
  {
   "cell_type": "code",
   "execution_count": null,
   "id": "5a5a3164",
   "metadata": {},
   "outputs": [],
   "source": [
    "logreg = LogisticRegression(random_state=42)"
   ]
  },
  {
   "cell_type": "code",
   "execution_count": null,
   "id": "cd09c959",
   "metadata": {},
   "outputs": [],
   "source": [
    "from sklearn.model_selection import KFold, StratifiedKFold"
   ]
  },
  {
   "cell_type": "markdown",
   "id": "2458cd29",
   "metadata": {},
   "source": [
    "### KFold"
   ]
  },
  {
   "cell_type": "code",
   "execution_count": null,
   "id": "bb5fd304",
   "metadata": {},
   "outputs": [],
   "source": [
    "folds = KFold(n_splits=5)"
   ]
  },
  {
   "cell_type": "code",
   "execution_count": null,
   "id": "baa34583",
   "metadata": {},
   "outputs": [],
   "source": [
    "scores = cross_val_score(logreg, X_resampled_os, y_resampled_os, cv=folds, scoring=\"recall\")\n",
    "scores"
   ]
  },
  {
   "cell_type": "markdown",
   "id": "879f50b1",
   "metadata": {},
   "source": [
    "### Stratified KFold"
   ]
  },
  {
   "cell_type": "code",
   "execution_count": null,
   "id": "7ea0fb64",
   "metadata": {},
   "outputs": [],
   "source": [
    "folds = StratifiedKFold(n_splits=5)"
   ]
  },
  {
   "cell_type": "code",
   "execution_count": null,
   "id": "25c23209",
   "metadata": {},
   "outputs": [],
   "source": [
    "scores = cross_val_score(logreg,X_resampled_os, y_resampled_os, cv=folds, scoring=\"recall\")\n",
    "scores"
   ]
  },
  {
   "cell_type": "markdown",
   "id": "d8176a16",
   "metadata": {},
   "source": [
    "## Plot the ROC curve"
   ]
  },
  {
   "cell_type": "markdown",
   "id": "77ea8047",
   "metadata": {},
   "source": [
    "### Using Oversampled Logistic regression"
   ]
  },
  {
   "cell_type": "code",
   "execution_count": null,
   "id": "0c02348a",
   "metadata": {},
   "outputs": [],
   "source": [
    "from sklearn.metrics import plot_roc_curve"
   ]
  },
  {
   "cell_type": "code",
   "execution_count": null,
   "id": "28606bf6",
   "metadata": {},
   "outputs": [],
   "source": [
    "plot_roc_curve(lreg_os, X_resampled_os, y_resampled_os, drop_intermediate=False)\n",
    "plt.show()"
   ]
  },
  {
   "cell_type": "markdown",
   "id": "becd96b5",
   "metadata": {},
   "source": [
    "### Using GridsearchCV logistic regression"
   ]
  },
  {
   "cell_type": "code",
   "execution_count": null,
   "id": "225e1fcc",
   "metadata": {},
   "outputs": [],
   "source": [
    "# For best score using gridsearch CV we can use it to see if our score has increased.\n",
    "Logreg_best = clf.best_estimator_"
   ]
  },
  {
   "cell_type": "code",
   "execution_count": null,
   "id": "8f618b35",
   "metadata": {},
   "outputs": [],
   "source": [
    "plot_roc_curve(Logreg_best, X_resampled_os, y_resampled_os)\n",
    "plt.show()"
   ]
  },
  {
   "cell_type": "markdown",
   "id": "8a91be81",
   "metadata": {},
   "source": [
    "### Using Random forest"
   ]
  },
  {
   "cell_type": "code",
   "execution_count": null,
   "id": "afd35150",
   "metadata": {},
   "outputs": [],
   "source": [
    "RF_best = rf_model_cv.best_estimator_"
   ]
  },
  {
   "cell_type": "code",
   "execution_count": null,
   "id": "cb1c5b7b",
   "metadata": {},
   "outputs": [],
   "source": [
    "plot_roc_curve(RF_best, X_resampled_os, y_resampled_os)\n",
    "plt.show()"
   ]
  },
  {
   "cell_type": "code",
   "execution_count": null,
   "id": "2b51e7dd",
   "metadata": {},
   "outputs": [],
   "source": [
    "lreg_os.feature_importances_"
   ]
  },
  {
   "cell_type": "code",
   "execution_count": null,
   "id": "9064c7ba",
   "metadata": {},
   "outputs": [],
   "source": [
    "clf.feature_importances_"
   ]
  },
  {
   "cell_type": "code",
   "execution_count": null,
   "id": "08a7e3a3",
   "metadata": {},
   "outputs": [],
   "source": [
    "imp_df = pd.DataFrame({\n",
    "    \"Varname\": X_train.columns,\n",
    "    \"Imp\": clf.feature_importances_\n",
    "})"
   ]
  },
  {
   "cell_type": "markdown",
   "id": "55dee260",
   "metadata": {},
   "source": [
    "Since this is the best Accuracy and recall value we have got after doing research on all the models and using all the techniques."
   ]
  },
  {
   "cell_type": "code",
   "execution_count": null,
   "id": "a23dd356",
   "metadata": {},
   "outputs": [],
   "source": [
    "# The Best model we found was Logistic regresion Random Over sampling model with a recall of 0.74"
   ]
  }
 ],
 "metadata": {
  "kernelspec": {
   "display_name": "Python 3 (ipykernel)",
   "language": "python",
   "name": "python3"
  },
  "language_info": {
   "codemirror_mode": {
    "name": "ipython",
    "version": 3
   },
   "file_extension": ".py",
   "mimetype": "text/x-python",
   "name": "python",
   "nbconvert_exporter": "python",
   "pygments_lexer": "ipython3",
   "version": "3.9.13"
  }
 },
 "nbformat": 4,
 "nbformat_minor": 5
}
